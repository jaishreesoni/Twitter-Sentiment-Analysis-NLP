{
 "cells": [
  {
   "cell_type": "markdown",
   "id": "ada91256",
   "metadata": {},
   "source": [
    "# 4.Twitter Sentiment Analysis: Training the complete train data and applying on test data(final data) "
   ]
  },
  {
   "cell_type": "code",
   "execution_count": 1,
   "id": "6a183de9",
   "metadata": {},
   "outputs": [],
   "source": [
    "import pandas as pd"
   ]
  },
  {
   "cell_type": "code",
   "execution_count": 2,
   "id": "f08a1d45",
   "metadata": {},
   "outputs": [
    {
     "name": "stdout",
     "output_type": "stream",
     "text": [
      "Requirement already satisfied: nlpaug in c:\\users\\abhim\\anaconda3\\envs\\rstudio\\lib\\site-packages (1.1.7)\n"
     ]
    }
   ],
   "source": [
    "!pip install nlpaug"
   ]
  },
  {
   "cell_type": "code",
   "execution_count": 3,
   "id": "a943468b",
   "metadata": {},
   "outputs": [],
   "source": [
    "import matplotlib.pyplot as plt\n",
    "import seaborn as sns\n",
    "import warnings\n",
    "import nlpaug.augmenter.word as naw\n",
    "from imblearn.over_sampling import RandomOverSampler, SMOTE\n",
    "from imblearn.combine import SMOTETomek\n",
    "from tensorflow.keras.preprocessing.text import Tokenizer\n",
    "from tensorflow.keras.preprocessing.sequence import pad_sequences\n",
    "sns.set_style('darkgrid')\n",
    "import pandas as pd\n",
    "import numpy as np\n",
    "import matplotlib.pyplot as plt\n",
    "import seaborn as sns\n",
    "import re\n",
    "\n",
    "%matplotlib inline\n",
    "sns.set_style(\"whitegrid\")"
   ]
  },
  {
   "cell_type": "code",
   "execution_count": 4,
   "id": "d9941b83",
   "metadata": {},
   "outputs": [
    {
     "data": {
      "text/html": [
       "<div>\n",
       "<style scoped>\n",
       "    .dataframe tbody tr th:only-of-type {\n",
       "        vertical-align: middle;\n",
       "    }\n",
       "\n",
       "    .dataframe tbody tr th {\n",
       "        vertical-align: top;\n",
       "    }\n",
       "\n",
       "    .dataframe thead th {\n",
       "        text-align: right;\n",
       "    }\n",
       "</style>\n",
       "<table border=\"1\" class=\"dataframe\">\n",
       "  <thead>\n",
       "    <tr style=\"text-align: right;\">\n",
       "      <th></th>\n",
       "      <th>id</th>\n",
       "      <th>label</th>\n",
       "      <th>tweet</th>\n",
       "    </tr>\n",
       "  </thead>\n",
       "  <tbody>\n",
       "    <tr>\n",
       "      <th>0</th>\n",
       "      <td>1</td>\n",
       "      <td>0</td>\n",
       "      <td>@user when a father is dysfunctional and is s...</td>\n",
       "    </tr>\n",
       "    <tr>\n",
       "      <th>1</th>\n",
       "      <td>2</td>\n",
       "      <td>0</td>\n",
       "      <td>@user @user thanks for #lyft credit i can't us...</td>\n",
       "    </tr>\n",
       "    <tr>\n",
       "      <th>2</th>\n",
       "      <td>3</td>\n",
       "      <td>0</td>\n",
       "      <td>bihday your majesty</td>\n",
       "    </tr>\n",
       "    <tr>\n",
       "      <th>3</th>\n",
       "      <td>4</td>\n",
       "      <td>0</td>\n",
       "      <td>#model   i love u take with u all the time in ...</td>\n",
       "    </tr>\n",
       "    <tr>\n",
       "      <th>4</th>\n",
       "      <td>5</td>\n",
       "      <td>0</td>\n",
       "      <td>factsguide: society now    #motivation</td>\n",
       "    </tr>\n",
       "  </tbody>\n",
       "</table>\n",
       "</div>"
      ],
      "text/plain": [
       "   id  label                                              tweet\n",
       "0   1      0   @user when a father is dysfunctional and is s...\n",
       "1   2      0  @user @user thanks for #lyft credit i can't us...\n",
       "2   3      0                                bihday your majesty\n",
       "3   4      0  #model   i love u take with u all the time in ...\n",
       "4   5      0             factsguide: society now    #motivation"
      ]
     },
     "execution_count": 4,
     "metadata": {},
     "output_type": "execute_result"
    }
   ],
   "source": [
    "data = pd.read_csv('train.csv')\n",
    "data.head()"
   ]
  },
  {
   "cell_type": "code",
   "execution_count": 5,
   "id": "5c19a9b2",
   "metadata": {},
   "outputs": [
    {
     "data": {
      "text/plain": [
       "Text(0, 0.5, 'Count')"
      ]
     },
     "execution_count": 5,
     "metadata": {},
     "output_type": "execute_result"
    },
    {
     "data": {
      "image/png": "[encoded data removed]",
      "text/plain": [
       "<Figure size 504x360 with 1 Axes>"
      ]
     },
     "metadata": {},
     "output_type": "display_data"
    }
   ],
   "source": [
    "plt.figure(figsize=(7, 5))\n",
    "plt.title('Couting the labels', fontsize=13)\n",
    "sns.countplot(data=data, x='label')\n",
    "plt.xlabel('Label', fontsize=12)\n",
    "plt.ylabel('Count', fontsize=12)"
   ]
  },
  {
   "cell_type": "code",
   "execution_count": 6,
   "id": "ae07d152",
   "metadata": {},
   "outputs": [],
   "source": [
    "# First of all we need to tokenize the tweets so we can augmentate them\n",
    "\n",
    "data_smote = data.copy()\n",
    "tokenizer = Tokenizer(num_words=5000)\n",
    "tokenizer.fit_on_texts(data_smote)\n",
    "\n",
    "data_smote['tweet'] = tokenizer.texts_to_sequences(data_smote['tweet'])\n",
    "vocab_size = len(tokenizer.word_index) + 1\n",
    "\n",
    "maxlen = 100\n",
    "\n",
    "data_smote['tweet'] = pad_sequences(data_smote['tweet'], padding='post', maxlen=maxlen)"
   ]
  },
  {
   "cell_type": "code",
   "execution_count": 7,
   "id": "7335e1b8",
   "metadata": {},
   "outputs": [
    {
     "name": "stderr",
     "output_type": "stream",
     "text": [
      "[nltk_data] Downloading package averaged_perceptron_tagger to\n",
      "[nltk_data]     C:\\Users\\abhim\\AppData\\Roaming\\nltk_data...\n",
      "[nltk_data]   Package averaged_perceptron_tagger is already up-to-\n",
      "[nltk_data]       date!\n"
     ]
    },
    {
     "name": "stdout",
     "output_type": "stream",
     "text": [
      "26904\n"
     ]
    }
   ],
   "source": [
    "# nplaug\n",
    "import nltk\n",
    "nltk.download('averaged_perceptron_tagger')\n",
    "data_resampled_nlpaug = data.copy()\n",
    "\n",
    "aug_texts = []\n",
    "minority_data = data_resampled_nlpaug[data_resampled_nlpaug['label'] == 1]\n",
    "aug = naw.SynonymAug(aug_src='wordnet')\n",
    "\n",
    "texts = minority_data['tweet'].tolist()\n",
    "\n",
    "for text in texts:\n",
    "    augmented_texts = aug.augment(text, n=12)\n",
    "    \n",
    "    for augmented in augmented_texts:\n",
    "        aug_texts.append(augmented)\n",
    "\n",
    "print(len(aug_texts))\n",
    "\n",
    "temp = pd.DataFrame({\n",
    "    'tweet': aug_texts\n",
    "})\n",
    "        \n",
    "temp['label'] = 1\n",
    "        \n",
    "data_resampled_nlpaug = pd.concat([data_resampled_nlpaug, temp], axis=0)\n",
    "data_resampled_nlpaug = data_resampled_nlpaug.reset_index()\n",
    "data_resampled_nlpaug = data_resampled_nlpaug.drop(columns=['index'])\n",
    "del temp, minority_data"
   ]
  },
  {
   "cell_type": "code",
   "execution_count": 8,
   "id": "c15a9501",
   "metadata": {},
   "outputs": [
    {
     "data": {
      "text/plain": [
       "Text(0, 0.5, 'Count')"
      ]
     },
     "execution_count": 8,
     "metadata": {},
     "output_type": "execute_result"
    },
    {
     "data": {
      "image/png": "[encoded data removed]",
      "text/plain": [
       "<Figure size 504x360 with 1 Axes>"
      ]
     },
     "metadata": {},
     "output_type": "display_data"
    }
   ],
   "source": [
    "plt.figure(figsize=(7, 5))\n",
    "plt.title('Couting the labels', fontsize=13)\n",
    "sns.countplot(data=data_resampled_nlpaug, x='label')\n",
    "plt.xlabel('Label', fontsize=12)\n",
    "plt.ylabel('Count', fontsize=12)"
   ]
  },
  {
   "cell_type": "code",
   "execution_count": 9,
   "id": "525822f1",
   "metadata": {},
   "outputs": [
    {
     "data": {
      "text/html": [
       "<div>\n",
       "<style scoped>\n",
       "    .dataframe tbody tr th:only-of-type {\n",
       "        vertical-align: middle;\n",
       "    }\n",
       "\n",
       "    .dataframe tbody tr th {\n",
       "        vertical-align: top;\n",
       "    }\n",
       "\n",
       "    .dataframe thead th {\n",
       "        text-align: right;\n",
       "    }\n",
       "</style>\n",
       "<table border=\"1\" class=\"dataframe\">\n",
       "  <thead>\n",
       "    <tr style=\"text-align: right;\">\n",
       "      <th></th>\n",
       "      <th>Label</th>\n",
       "      <th>Count</th>\n",
       "      <th>Percentage</th>\n",
       "    </tr>\n",
       "  </thead>\n",
       "  <tbody>\n",
       "    <tr>\n",
       "      <th>0</th>\n",
       "      <td>0</td>\n",
       "      <td>29720</td>\n",
       "      <td>0.504875</td>\n",
       "    </tr>\n",
       "    <tr>\n",
       "      <th>1</th>\n",
       "      <td>1</td>\n",
       "      <td>29146</td>\n",
       "      <td>0.495125</td>\n",
       "    </tr>\n",
       "  </tbody>\n",
       "</table>\n",
       "</div>"
      ],
      "text/plain": [
       "   Label  Count  Percentage\n",
       "0      0  29720    0.504875\n",
       "1      1  29146    0.495125"
      ]
     },
     "execution_count": 9,
     "metadata": {},
     "output_type": "execute_result"
    }
   ],
   "source": [
    "counts = pd.DataFrame({\n",
    "    'Label': data_resampled_nlpaug['label'].value_counts().index,\n",
    "    'Count': data_resampled_nlpaug['label'].value_counts().values,\n",
    "    'Percentage':  data_resampled_nlpaug['label'].value_counts().values/data_resampled_nlpaug.shape[0]\n",
    "})\n",
    "\n",
    "counts.head()"
   ]
  },
  {
   "cell_type": "code",
   "execution_count": 10,
   "id": "cf0e5741",
   "metadata": {},
   "outputs": [
    {
     "data": {
      "text/html": [
       "<div>\n",
       "<style scoped>\n",
       "    .dataframe tbody tr th:only-of-type {\n",
       "        vertical-align: middle;\n",
       "    }\n",
       "\n",
       "    .dataframe tbody tr th {\n",
       "        vertical-align: top;\n",
       "    }\n",
       "\n",
       "    .dataframe thead th {\n",
       "        text-align: right;\n",
       "    }\n",
       "</style>\n",
       "<table border=\"1\" class=\"dataframe\">\n",
       "  <thead>\n",
       "    <tr style=\"text-align: right;\">\n",
       "      <th></th>\n",
       "      <th>id</th>\n",
       "      <th>label</th>\n",
       "      <th>tweet</th>\n",
       "    </tr>\n",
       "  </thead>\n",
       "  <tbody>\n",
       "    <tr>\n",
       "      <th>0</th>\n",
       "      <td>1</td>\n",
       "      <td>0</td>\n",
       "      <td>@user when a father is dysfunctional and is s...</td>\n",
       "    </tr>\n",
       "    <tr>\n",
       "      <th>1</th>\n",
       "      <td>2</td>\n",
       "      <td>0</td>\n",
       "      <td>@user @user thanks for #lyft credit i can't us...</td>\n",
       "    </tr>\n",
       "    <tr>\n",
       "      <th>2</th>\n",
       "      <td>3</td>\n",
       "      <td>0</td>\n",
       "      <td>bihday your majesty</td>\n",
       "    </tr>\n",
       "    <tr>\n",
       "      <th>3</th>\n",
       "      <td>4</td>\n",
       "      <td>0</td>\n",
       "      <td>#model   i love u take with u all the time in ...</td>\n",
       "    </tr>\n",
       "    <tr>\n",
       "      <th>4</th>\n",
       "      <td>5</td>\n",
       "      <td>0</td>\n",
       "      <td>factsguide: society now    #motivation</td>\n",
       "    </tr>\n",
       "  </tbody>\n",
       "</table>\n",
       "</div>"
      ],
      "text/plain": [
       "   id  label                                              tweet\n",
       "0   1      0   @user when a father is dysfunctional and is s...\n",
       "1   2      0  @user @user thanks for #lyft credit i can't us...\n",
       "2   3      0                                bihday your majesty\n",
       "3   4      0  #model   i love u take with u all the time in ...\n",
       "4   5      0             factsguide: society now    #motivation"
      ]
     },
     "execution_count": 10,
     "metadata": {},
     "output_type": "execute_result"
    }
   ],
   "source": [
    "data.head()"
   ]
  },
  {
   "cell_type": "code",
   "execution_count": 11,
   "id": "b9fb261f",
   "metadata": {},
   "outputs": [
    {
     "data": {
      "text/plain": [
       "0    29720\n",
       "1    29146\n",
       "Name: label, dtype: int64"
      ]
     },
     "execution_count": 11,
     "metadata": {},
     "output_type": "execute_result"
    }
   ],
   "source": [
    "data_resampled_nlpaug.label.value_counts()"
   ]
  },
  {
   "cell_type": "code",
   "execution_count": 12,
   "id": "eff34719",
   "metadata": {},
   "outputs": [],
   "source": [
    "df=data_resampled_nlpaug\n",
    "df.drop(\"id\",axis=1,inplace= True)"
   ]
  },
  {
   "cell_type": "code",
   "execution_count": 13,
   "id": "7a63fc06",
   "metadata": {},
   "outputs": [
    {
     "data": {
      "text/plain": [
       "0    29720\n",
       "1    29146\n",
       "Name: label, dtype: int64"
      ]
     },
     "execution_count": 13,
     "metadata": {},
     "output_type": "execute_result"
    }
   ],
   "source": [
    "df.label.value_counts()"
   ]
  },
  {
   "cell_type": "code",
   "execution_count": 14,
   "id": "7346bd80",
   "metadata": {},
   "outputs": [],
   "source": [
    "# removes pattern in the input text\n",
    "def remove_pattern(input_txt, pattern):\n",
    "    r = re.findall(pattern, input_txt)\n",
    "    for word in r:\n",
    "        input_txt = re.sub(word, \"\", input_txt)\n",
    "    return input_txt"
   ]
  },
  {
   "cell_type": "code",
   "execution_count": 15,
   "id": "f8a1a7d5",
   "metadata": {},
   "outputs": [],
   "source": [
    "# remove twitter handles (@user)\n",
    "df['clean_tweet'] = np.vectorize(remove_pattern)(df['tweet'], \"@[\\w]*\")"
   ]
  },
  {
   "cell_type": "code",
   "execution_count": 16,
   "id": "df21b818",
   "metadata": {},
   "outputs": [
    {
     "name": "stderr",
     "output_type": "stream",
     "text": [
      "[nltk_data] Downloading package punkt to\n",
      "[nltk_data]     C:\\Users\\abhim\\AppData\\Roaming\\nltk_data...\n",
      "[nltk_data]   Package punkt is already up-to-date!\n",
      "[nltk_data] Downloading package wordnet to\n",
      "[nltk_data]     C:\\Users\\abhim\\AppData\\Roaming\\nltk_data...\n",
      "[nltk_data]   Package wordnet is already up-to-date!\n",
      "[nltk_data] Downloading package stopwords to\n",
      "[nltk_data]     C:\\Users\\abhim\\AppData\\Roaming\\nltk_data...\n",
      "[nltk_data]   Package stopwords is already up-to-date!\n"
     ]
    }
   ],
   "source": [
    "import nltk\n",
    "nltk.download('punkt')\n",
    "nltk.download('wordnet')\n",
    "nltk.download('stopwords')\n",
    "\n",
    "from nltk.tokenize import word_tokenize\n",
    "from nltk.stem import WordNetLemmatizer\n",
    "from nltk.corpus import stopwords"
   ]
  },
  {
   "cell_type": "code",
   "execution_count": 17,
   "id": "ed13432c",
   "metadata": {},
   "outputs": [],
   "source": [
    "def clean_documents(document):\n",
    "  stop = stopwords.words('english')\n",
    "  tokens = word_tokenize(document.lower())\n",
    "\n",
    "  word_tokens = [token for token in tokens if token.isalpha()]\n",
    "  clean_tokens = [token for token in word_tokens if token not in stop]\n",
    "\n",
    "  lemmatizer = WordNetLemmatizer()\n",
    "  lemmatized_tokens = [lemmatizer.lemmatize(token) for token in clean_tokens]\n",
    "\n",
    "  return \" \".join(lemmatized_tokens)"
   ]
  },
  {
   "cell_type": "code",
   "execution_count": 18,
   "id": "228e1caf",
   "metadata": {},
   "outputs": [],
   "source": [
    "df[\"clean_tweet\"] = df[\"clean_tweet\"].apply(clean_documents)"
   ]
  },
  {
   "cell_type": "code",
   "execution_count": 19,
   "id": "5e2e645f",
   "metadata": {},
   "outputs": [
    {
     "data": {
      "text/html": [
       "<div>\n",
       "<style scoped>\n",
       "    .dataframe tbody tr th:only-of-type {\n",
       "        vertical-align: middle;\n",
       "    }\n",
       "\n",
       "    .dataframe tbody tr th {\n",
       "        vertical-align: top;\n",
       "    }\n",
       "\n",
       "    .dataframe thead th {\n",
       "        text-align: right;\n",
       "    }\n",
       "</style>\n",
       "<table border=\"1\" class=\"dataframe\">\n",
       "  <thead>\n",
       "    <tr style=\"text-align: right;\">\n",
       "      <th></th>\n",
       "      <th>label</th>\n",
       "      <th>tweet</th>\n",
       "      <th>clean_tweet</th>\n",
       "    </tr>\n",
       "  </thead>\n",
       "  <tbody>\n",
       "    <tr>\n",
       "      <th>0</th>\n",
       "      <td>0</td>\n",
       "      <td>@user when a father is dysfunctional and is s...</td>\n",
       "      <td>father dysfunctional selfish drag kid dysfunct...</td>\n",
       "    </tr>\n",
       "    <tr>\n",
       "      <th>1</th>\n",
       "      <td>0</td>\n",
       "      <td>@user @user thanks for #lyft credit i can't us...</td>\n",
       "      <td>thanks lyft credit ca use cause offer wheelcha...</td>\n",
       "    </tr>\n",
       "    <tr>\n",
       "      <th>2</th>\n",
       "      <td>0</td>\n",
       "      <td>bihday your majesty</td>\n",
       "      <td>bihday majesty</td>\n",
       "    </tr>\n",
       "    <tr>\n",
       "      <th>3</th>\n",
       "      <td>0</td>\n",
       "      <td>#model   i love u take with u all the time in ...</td>\n",
       "      <td>model love u take u time</td>\n",
       "    </tr>\n",
       "    <tr>\n",
       "      <th>4</th>\n",
       "      <td>0</td>\n",
       "      <td>factsguide: society now    #motivation</td>\n",
       "      <td>factsguide society motivation</td>\n",
       "    </tr>\n",
       "  </tbody>\n",
       "</table>\n",
       "</div>"
      ],
      "text/plain": [
       "   label                                              tweet  \\\n",
       "0      0   @user when a father is dysfunctional and is s...   \n",
       "1      0  @user @user thanks for #lyft credit i can't us...   \n",
       "2      0                                bihday your majesty   \n",
       "3      0  #model   i love u take with u all the time in ...   \n",
       "4      0             factsguide: society now    #motivation   \n",
       "\n",
       "                                         clean_tweet  \n",
       "0  father dysfunctional selfish drag kid dysfunct...  \n",
       "1  thanks lyft credit ca use cause offer wheelcha...  \n",
       "2                                     bihday majesty  \n",
       "3                           model love u take u time  \n",
       "4                      factsguide society motivation  "
      ]
     },
     "execution_count": 19,
     "metadata": {},
     "output_type": "execute_result"
    }
   ],
   "source": [
    "df.head()"
   ]
  },
  {
   "cell_type": "code",
   "execution_count": 20,
   "id": "7c01dbc0",
   "metadata": {},
   "outputs": [],
   "source": [
    "X=df.clean_tweet\n",
    "y=df.label"
   ]
  },
  {
   "cell_type": "code",
   "execution_count": 21,
   "id": "0cbcf685",
   "metadata": {},
   "outputs": [],
   "source": [
    "# NN\n",
    "from tensorflow.keras.preprocessing.text import Tokenizer\n",
    "from tensorflow.keras.preprocessing import sequence\n",
    "from tensorflow.keras.models import Sequential\n",
    "from tensorflow.keras.layers import Dense, Embedding, Flatten, SimpleRNN, Bidirectional, LSTM, GRU "
   ]
  },
  {
   "cell_type": "code",
   "execution_count": 22,
   "id": "3cbb7ff1",
   "metadata": {},
   "outputs": [],
   "source": [
    "# Processing text\n",
    "\n",
    "tokenizer = Tokenizer()\n",
    "tokenizer.fit_on_texts(X)"
   ]
  },
  {
   "cell_type": "code",
   "execution_count": 23,
   "id": "0adda027",
   "metadata": {},
   "outputs": [
    {
     "data": {
      "text/plain": [
       "37437"
      ]
     },
     "execution_count": 23,
     "metadata": {},
     "output_type": "execute_result"
    }
   ],
   "source": [
    "vocabulary = tokenizer.index_word\n",
    "vocabulary\n",
    "vocab_len = len(vocabulary)\n",
    "vocab_len"
   ]
  },
  {
   "cell_type": "code",
   "execution_count": 24,
   "id": "d587dd3c",
   "metadata": {},
   "outputs": [],
   "source": [
    "train_sequence = tokenizer.texts_to_sequences(X)"
   ]
  },
  {
   "cell_type": "code",
   "execution_count": 25,
   "id": "162c58c7",
   "metadata": {},
   "outputs": [],
   "source": [
    "doc_len = []\n",
    "for doc in train_sequence:\n",
    "    doc_len.append(len(doc))"
   ]
  },
  {
   "cell_type": "code",
   "execution_count": 26,
   "id": "bfa16a37",
   "metadata": {},
   "outputs": [
    {
     "data": {
      "text/plain": [
       "37"
      ]
     },
     "execution_count": 26,
     "metadata": {},
     "output_type": "execute_result"
    }
   ],
   "source": [
    "max(doc_len)"
   ]
  },
  {
   "cell_type": "code",
   "execution_count": 27,
   "id": "c87ddd59",
   "metadata": {},
   "outputs": [
    {
     "data": {
      "text/plain": [
       "24.0"
      ]
     },
     "execution_count": 27,
     "metadata": {},
     "output_type": "execute_result"
    }
   ],
   "source": [
    "np.quantile(doc_len, 0.9999)"
   ]
  },
  {
   "cell_type": "code",
   "execution_count": 28,
   "id": "ce5e88f8",
   "metadata": {},
   "outputs": [],
   "source": [
    "max_len = 24"
   ]
  },
  {
   "cell_type": "code",
   "execution_count": 29,
   "id": "969b05be",
   "metadata": {},
   "outputs": [],
   "source": [
    "train_sequence_matrix = sequence.pad_sequences(train_sequence, maxlen= max_len)"
   ]
  },
  {
   "cell_type": "code",
   "execution_count": 31,
   "id": "10209370",
   "metadata": {},
   "outputs": [
    {
     "name": "stdout",
     "output_type": "stream",
     "text": [
      "Epoch 1/50\n",
      "920/920 [==============================] - 137s 133ms/step - loss: 0.0858\n",
      "Epoch 2/50\n",
      "920/920 [==============================] - 123s 133ms/step - loss: 0.0177\n",
      "Epoch 3/50\n",
      "920/920 [==============================] - 130s 142ms/step - loss: 0.0074\n",
      "Epoch 4/50\n",
      "920/920 [==============================] - 133s 144ms/step - loss: 0.0052\n",
      "Epoch 5/50\n",
      "920/920 [==============================] - 135s 146ms/step - loss: 0.0037\n",
      "Epoch 6/50\n",
      "920/920 [==============================] - 130s 142ms/step - loss: 0.0041\n",
      "Epoch 7/50\n",
      "920/920 [==============================] - 113s 122ms/step - loss: 0.0026\n",
      "Epoch 8/50\n",
      "920/920 [==============================] - 123s 134ms/step - loss: 0.0029\n",
      "Epoch 9/50\n",
      "920/920 [==============================] - 129s 140ms/step - loss: 0.0021\n",
      "Epoch 10/50\n",
      "920/920 [==============================] - 125s 136ms/step - loss: 0.0015\n",
      "Epoch 11/50\n",
      "920/920 [==============================] - 118s 128ms/step - loss: 0.0017\n",
      "Epoch 12/50\n",
      "920/920 [==============================] - 115s 125ms/step - loss: 0.0023\n",
      "Epoch 13/50\n",
      "920/920 [==============================] - 173s 188ms/step - loss: 0.0015\n",
      "Epoch 14/50\n",
      "920/920 [==============================] - 169s 184ms/step - loss: 0.0011\n",
      "Epoch 15/50\n",
      "920/920 [==============================] - 171s 186ms/step - loss: 0.0010A - E - ETA: 5s - loss: 9.7\n",
      "Epoch 16/50\n",
      "920/920 [==============================] - 170s 185ms/step - loss: 0.0014\n",
      "Epoch 17/50\n",
      "920/920 [==============================] - 159s 173ms/step - loss: 0.0014\n",
      "Epoch 18/50\n",
      "920/920 [==============================] - 130s 141ms/step - loss: 0.0012\n",
      "Epoch 19/50\n",
      "920/920 [==============================] - 131s 143ms/step - loss: 9.0745e-04\n",
      "Epoch 20/50\n",
      "920/920 [==============================] - 82s 89ms/step - loss: 9.0321e-04\n",
      "Epoch 21/50\n",
      "920/920 [==============================] - 79s 86ms/step - loss: 7.8762e-04\n",
      "Epoch 22/50\n",
      "920/920 [==============================] - 89s 97ms/step - loss: 0.0011\n",
      "Epoch 23/50\n",
      "920/920 [==============================] - 86s 94ms/step - loss: 7.4368e-04\n",
      "Epoch 24/50\n",
      "920/920 [==============================] - 85s 93ms/step - loss: 7.8059e-04 0s - loss: 7.8206e\n",
      "Epoch 25/50\n",
      "920/920 [==============================] - 87s 95ms/step - loss: 9.6422e-04\n",
      "Epoch 26/50\n",
      "920/920 [==============================] - 83s 90ms/step - loss: 0.0014 6s  - ETA: 5s - l - ETA: 4s - loss: 0.\n",
      "Epoch 27/50\n",
      "920/920 [==============================] - 83s 90ms/step - loss: 6.2116e-04\n",
      "Epoch 28/50\n",
      "920/920 [==============================] - 78s 85ms/step - loss: 5.3932e-04\n",
      "Epoch 29/50\n",
      "920/920 [==============================] - 79s 86ms/step - loss: 5.4292e-04\n",
      "Epoch 30/50\n",
      "920/920 [==============================] - 54s 58ms/step - loss: 5.6978e-04\n",
      "Epoch 31/50\n",
      "920/920 [==============================] - 81s 88ms/step - loss: 0.0011 0s - loss: 0.0\n",
      "Epoch 32/50\n",
      "920/920 [==============================] - 84s 91ms/step - loss: 0.0016\n",
      "Epoch 33/50\n",
      "920/920 [==============================] - 93s 101ms/step - loss: 9.1029e-04\n",
      "Epoch 34/50\n",
      "920/920 [==============================] - 87s 94ms/step - loss: 6.1079e-04\n",
      "Epoch 35/50\n",
      "920/920 [==============================] - 92s 100ms/step - loss: 5.9381e-041s - \n",
      "Epoch 36/50\n",
      "920/920 [==============================] - 90s 98ms/step - loss: 5.2579e-04\n",
      "Epoch 37/50\n",
      "920/920 [==============================] - 91s 99ms/step - loss: 5.2272e-04 1s - loss\n",
      "Epoch 38/50\n",
      "920/920 [==============================] - 84s 91ms/step - loss: 5.1803e-04\n",
      "Epoch 39/50\n",
      "920/920 [==============================] - 79s 86ms/step - loss: 5.3419e-04\n",
      "Epoch 40/50\n",
      "920/920 [==============================] - 62s 67ms/step - loss: 8.2571e-04\n",
      "Epoch 41/50\n",
      "920/920 [==============================] - 86s 93ms/step - loss: 8.0547e-04\n",
      "Epoch 42/50\n",
      "920/920 [==============================] - 87s 95ms/step - loss: 5.7394e-04\n",
      "Epoch 43/50\n",
      "920/920 [==============================] - 88s 96ms/step - loss: 6.1971e-04\n",
      "Epoch 44/50\n",
      "920/920 [==============================] - 88s 96ms/step - loss: 6.5876e-04 0s - loss: 6.6072\n",
      "Epoch 45/50\n",
      "920/920 [==============================] - 89s 97ms/step - loss: 6.8952e-04\n",
      "Epoch 46/50\n",
      "920/920 [==============================] - 96s 105ms/step - loss: 5.9056e-04\n",
      "Epoch 47/50\n",
      "920/920 [==============================] - 98s 106ms/step - loss: 6.3087e-04\n",
      "Epoch 48/50\n",
      "920/920 [==============================] - 100s 108ms/step - loss: 5.7041e-04\n",
      "Epoch 49/50\n",
      "920/920 [==============================] - 96s 104ms/step - loss: 5.2749e-04\n",
      "Epoch 50/50\n",
      "920/920 [==============================] - 99s 107ms/step - loss: 5.2337e-04\n"
     ]
    },
    {
     "data": {
      "text/plain": [
       "<keras.callbacks.History at 0x2caad8dba58>"
      ]
     },
     "execution_count": 31,
     "metadata": {},
     "output_type": "execute_result"
    }
   ],
   "source": [
    "# GRU Bidirectional\n",
    "model = Sequential()\n",
    "model.add(Embedding(input_dim=vocab_len+1,output_dim=100,input_length=max_len,mask_zero=True))\n",
    "model.add(Bidirectional(GRU(128, activation=\"tanh\")))\n",
    "model.add(Dense(128,activation=\"tanh\"))\n",
    "model.add(Dense(64,activation=\"tanh\"))\n",
    "model.add(Dense(1,activation=\"sigmoid\"))\n",
    "\n",
    "model.compile(optimizer=\"adam\", loss=\"binary_crossentropy\")\n",
    "model.fit(train_sequence_matrix,y, batch_size=64,epochs=50)"
   ]
  },
  {
   "cell_type": "code",
   "execution_count": 103,
   "id": "914d164b",
   "metadata": {},
   "outputs": [],
   "source": [
    "test=pd.read_csv(\"test.csv\")"
   ]
  },
  {
   "cell_type": "code",
   "execution_count": 104,
   "id": "e8c12652",
   "metadata": {},
   "outputs": [
    {
     "data": {
      "text/html": [
       "<div>\n",
       "<style scoped>\n",
       "    .dataframe tbody tr th:only-of-type {\n",
       "        vertical-align: middle;\n",
       "    }\n",
       "\n",
       "    .dataframe tbody tr th {\n",
       "        vertical-align: top;\n",
       "    }\n",
       "\n",
       "    .dataframe thead th {\n",
       "        text-align: right;\n",
       "    }\n",
       "</style>\n",
       "<table border=\"1\" class=\"dataframe\">\n",
       "  <thead>\n",
       "    <tr style=\"text-align: right;\">\n",
       "      <th></th>\n",
       "      <th>id</th>\n",
       "      <th>tweet</th>\n",
       "    </tr>\n",
       "  </thead>\n",
       "  <tbody>\n",
       "    <tr>\n",
       "      <th>0</th>\n",
       "      <td>31963</td>\n",
       "      <td>#studiolife #aislife #requires #passion #dedic...</td>\n",
       "    </tr>\n",
       "    <tr>\n",
       "      <th>1</th>\n",
       "      <td>31964</td>\n",
       "      <td>@user #white #supremacists want everyone to s...</td>\n",
       "    </tr>\n",
       "    <tr>\n",
       "      <th>2</th>\n",
       "      <td>31965</td>\n",
       "      <td>safe ways to heal your #acne!!    #altwaystohe...</td>\n",
       "    </tr>\n",
       "    <tr>\n",
       "      <th>3</th>\n",
       "      <td>31966</td>\n",
       "      <td>is the hp and the cursed child book up for res...</td>\n",
       "    </tr>\n",
       "    <tr>\n",
       "      <th>4</th>\n",
       "      <td>31967</td>\n",
       "      <td>3rd #bihday to my amazing, hilarious #nephew...</td>\n",
       "    </tr>\n",
       "  </tbody>\n",
       "</table>\n",
       "</div>"
      ],
      "text/plain": [
       "      id                                              tweet\n",
       "0  31963  #studiolife #aislife #requires #passion #dedic...\n",
       "1  31964   @user #white #supremacists want everyone to s...\n",
       "2  31965  safe ways to heal your #acne!!    #altwaystohe...\n",
       "3  31966  is the hp and the cursed child book up for res...\n",
       "4  31967    3rd #bihday to my amazing, hilarious #nephew..."
      ]
     },
     "execution_count": 104,
     "metadata": {},
     "output_type": "execute_result"
    }
   ],
   "source": [
    "test.head()"
   ]
  },
  {
   "cell_type": "code",
   "execution_count": 105,
   "id": "0aab2d45",
   "metadata": {},
   "outputs": [],
   "source": [
    "# removes pattern in the input text\n",
    "def remove_pattern(input_txt, pattern):\n",
    "    r = re.findall(pattern, input_txt)\n",
    "    for word in r:\n",
    "        input_txt = re.sub(word, \"\", input_txt)\n",
    "    return input_txt"
   ]
  },
  {
   "cell_type": "code",
   "execution_count": 106,
   "id": "7c8aed2a",
   "metadata": {},
   "outputs": [],
   "source": [
    "# remove twitter handles (@user)\n",
    "test['clean_tweet'] = np.vectorize(remove_pattern)(test['tweet'], \"@[\\w]*\")"
   ]
  },
  {
   "cell_type": "code",
   "execution_count": 107,
   "id": "118ceff3",
   "metadata": {},
   "outputs": [
    {
     "name": "stderr",
     "output_type": "stream",
     "text": [
      "[nltk_data] Downloading package punkt to\n",
      "[nltk_data]     C:\\Users\\abhim\\AppData\\Roaming\\nltk_data...\n",
      "[nltk_data]   Package punkt is already up-to-date!\n",
      "[nltk_data] Downloading package wordnet to\n",
      "[nltk_data]     C:\\Users\\abhim\\AppData\\Roaming\\nltk_data...\n",
      "[nltk_data]   Package wordnet is already up-to-date!\n",
      "[nltk_data] Downloading package stopwords to\n",
      "[nltk_data]     C:\\Users\\abhim\\AppData\\Roaming\\nltk_data...\n",
      "[nltk_data]   Package stopwords is already up-to-date!\n"
     ]
    }
   ],
   "source": [
    "import nltk\n",
    "nltk.download('punkt')\n",
    "nltk.download('wordnet')\n",
    "nltk.download('stopwords')\n",
    "\n",
    "from nltk.tokenize import word_tokenize\n",
    "from nltk.stem import WordNetLemmatizer\n",
    "from nltk.corpus import stopwords"
   ]
  },
  {
   "cell_type": "code",
   "execution_count": 108,
   "id": "6256a871",
   "metadata": {},
   "outputs": [],
   "source": [
    "def clean_documents(document):\n",
    "  stop = stopwords.words('english')\n",
    "  tokens = word_tokenize(document.lower())\n",
    "\n",
    "  word_tokens = [token for token in tokens if token.isalpha()]\n",
    "  clean_tokens = [token for token in word_tokens if token not in stop]\n",
    "\n",
    "  lemmatizer = WordNetLemmatizer()\n",
    "  lemmatized_tokens = [lemmatizer.lemmatize(token) for token in clean_tokens]\n",
    "\n",
    "  return \" \".join(lemmatized_tokens)"
   ]
  },
  {
   "cell_type": "code",
   "execution_count": 109,
   "id": "78d3e5e8",
   "metadata": {},
   "outputs": [],
   "source": [
    "test[\"clean_tweet\"] = test[\"clean_tweet\"].apply(clean_documents)"
   ]
  },
  {
   "cell_type": "code",
   "execution_count": 110,
   "id": "be3ad629",
   "metadata": {},
   "outputs": [
    {
     "data": {
      "text/html": [
       "<div>\n",
       "<style scoped>\n",
       "    .dataframe tbody tr th:only-of-type {\n",
       "        vertical-align: middle;\n",
       "    }\n",
       "\n",
       "    .dataframe tbody tr th {\n",
       "        vertical-align: top;\n",
       "    }\n",
       "\n",
       "    .dataframe thead th {\n",
       "        text-align: right;\n",
       "    }\n",
       "</style>\n",
       "<table border=\"1\" class=\"dataframe\">\n",
       "  <thead>\n",
       "    <tr style=\"text-align: right;\">\n",
       "      <th></th>\n",
       "      <th>id</th>\n",
       "      <th>tweet</th>\n",
       "      <th>clean_tweet</th>\n",
       "    </tr>\n",
       "  </thead>\n",
       "  <tbody>\n",
       "    <tr>\n",
       "      <th>0</th>\n",
       "      <td>31963</td>\n",
       "      <td>#studiolife #aislife #requires #passion #dedic...</td>\n",
       "      <td>studiolife aislife requires passion dedication...</td>\n",
       "    </tr>\n",
       "    <tr>\n",
       "      <th>1</th>\n",
       "      <td>31964</td>\n",
       "      <td>@user #white #supremacists want everyone to s...</td>\n",
       "      <td>white supremacist want everyone see new movie</td>\n",
       "    </tr>\n",
       "    <tr>\n",
       "      <th>2</th>\n",
       "      <td>31965</td>\n",
       "      <td>safe ways to heal your #acne!!    #altwaystohe...</td>\n",
       "      <td>safe way heal acne altwaystoheal healthy healing</td>\n",
       "    </tr>\n",
       "    <tr>\n",
       "      <th>3</th>\n",
       "      <td>31966</td>\n",
       "      <td>is the hp and the cursed child book up for res...</td>\n",
       "      <td>hp cursed child book reservation already yes h...</td>\n",
       "    </tr>\n",
       "    <tr>\n",
       "      <th>4</th>\n",
       "      <td>31967</td>\n",
       "      <td>3rd #bihday to my amazing, hilarious #nephew...</td>\n",
       "      <td>bihday amazing hilarious nephew eli ahmir uncl...</td>\n",
       "    </tr>\n",
       "  </tbody>\n",
       "</table>\n",
       "</div>"
      ],
      "text/plain": [
       "      id                                              tweet  \\\n",
       "0  31963  #studiolife #aislife #requires #passion #dedic...   \n",
       "1  31964   @user #white #supremacists want everyone to s...   \n",
       "2  31965  safe ways to heal your #acne!!    #altwaystohe...   \n",
       "3  31966  is the hp and the cursed child book up for res...   \n",
       "4  31967    3rd #bihday to my amazing, hilarious #nephew...   \n",
       "\n",
       "                                         clean_tweet  \n",
       "0  studiolife aislife requires passion dedication...  \n",
       "1      white supremacist want everyone see new movie  \n",
       "2   safe way heal acne altwaystoheal healthy healing  \n",
       "3  hp cursed child book reservation already yes h...  \n",
       "4  bihday amazing hilarious nephew eli ahmir uncl...  "
      ]
     },
     "execution_count": 110,
     "metadata": {},
     "output_type": "execute_result"
    }
   ],
   "source": [
    "test.head()"
   ]
  },
  {
   "cell_type": "code",
   "execution_count": 111,
   "id": "b6a5bedc",
   "metadata": {},
   "outputs": [],
   "source": [
    "test=test.clean_tweet"
   ]
  },
  {
   "cell_type": "code",
   "execution_count": 112,
   "id": "40534f3c",
   "metadata": {},
   "outputs": [],
   "source": [
    "# Processing text\n",
    "# testing\n",
    "test_sequence = tokenizer.texts_to_sequences(test)\n",
    "test_sequence_matrix = sequence.pad_sequences(test_sequence, maxlen= max_len)"
   ]
  },
  {
   "cell_type": "code",
   "execution_count": 113,
   "id": "761317b5",
   "metadata": {},
   "outputs": [],
   "source": [
    "y_pred=model.predict(test_sequence_matrix)\n",
    "y_pred = np.where(y_pred >= 0.5, 1, 0)"
   ]
  },
  {
   "cell_type": "code",
   "execution_count": 114,
   "id": "c9550d17",
   "metadata": {},
   "outputs": [
    {
     "data": {
      "text/plain": [
       "array([[0],\n",
       "       [0],\n",
       "       [0],\n",
       "       ...,\n",
       "       [0],\n",
       "       [0],\n",
       "       [0]])"
      ]
     },
     "execution_count": 114,
     "metadata": {},
     "output_type": "execute_result"
    }
   ],
   "source": [
    "y_pred"
   ]
  },
  {
   "cell_type": "code",
   "execution_count": 115,
   "id": "63184486",
   "metadata": {},
   "outputs": [
    {
     "data": {
      "text/plain": [
       "0    studiolife aislife requires passion dedication...\n",
       "1        white supremacist want everyone see new movie\n",
       "2     safe way heal acne altwaystoheal healthy healing\n",
       "3    hp cursed child book reservation already yes h...\n",
       "4    bihday amazing hilarious nephew eli ahmir uncl...\n",
       "Name: clean_tweet, dtype: object"
      ]
     },
     "execution_count": 115,
     "metadata": {},
     "output_type": "execute_result"
    }
   ],
   "source": [
    "test.head()"
   ]
  },
  {
   "cell_type": "code",
   "execution_count": 116,
   "id": "5ff7b4d8",
   "metadata": {},
   "outputs": [],
   "source": [
    "predictions = pd.DataFrame(y_pred, columns=['Prediction'])"
   ]
  },
  {
   "cell_type": "code",
   "execution_count": 117,
   "id": "f31c55ca",
   "metadata": {},
   "outputs": [],
   "source": [
    "df = pd.concat([test, predictions], axis =1)"
   ]
  },
  {
   "cell_type": "code",
   "execution_count": 118,
   "id": "9da1be30",
   "metadata": {},
   "outputs": [
    {
     "data": {
      "text/html": [
       "<div>\n",
       "<style scoped>\n",
       "    .dataframe tbody tr th:only-of-type {\n",
       "        vertical-align: middle;\n",
       "    }\n",
       "\n",
       "    .dataframe tbody tr th {\n",
       "        vertical-align: top;\n",
       "    }\n",
       "\n",
       "    .dataframe thead th {\n",
       "        text-align: right;\n",
       "    }\n",
       "</style>\n",
       "<table border=\"1\" class=\"dataframe\">\n",
       "  <thead>\n",
       "    <tr style=\"text-align: right;\">\n",
       "      <th></th>\n",
       "      <th>clean_tweet</th>\n",
       "      <th>Prediction</th>\n",
       "    </tr>\n",
       "  </thead>\n",
       "  <tbody>\n",
       "    <tr>\n",
       "      <th>0</th>\n",
       "      <td>studiolife aislife requires passion dedication...</td>\n",
       "      <td>0</td>\n",
       "    </tr>\n",
       "    <tr>\n",
       "      <th>1</th>\n",
       "      <td>white supremacist want everyone see new movie</td>\n",
       "      <td>0</td>\n",
       "    </tr>\n",
       "    <tr>\n",
       "      <th>2</th>\n",
       "      <td>safe way heal acne altwaystoheal healthy healing</td>\n",
       "      <td>0</td>\n",
       "    </tr>\n",
       "    <tr>\n",
       "      <th>3</th>\n",
       "      <td>hp cursed child book reservation already yes h...</td>\n",
       "      <td>0</td>\n",
       "    </tr>\n",
       "    <tr>\n",
       "      <th>4</th>\n",
       "      <td>bihday amazing hilarious nephew eli ahmir uncl...</td>\n",
       "      <td>0</td>\n",
       "    </tr>\n",
       "  </tbody>\n",
       "</table>\n",
       "</div>"
      ],
      "text/plain": [
       "                                         clean_tweet  Prediction\n",
       "0  studiolife aislife requires passion dedication...           0\n",
       "1      white supremacist want everyone see new movie           0\n",
       "2   safe way heal acne altwaystoheal healthy healing           0\n",
       "3  hp cursed child book reservation already yes h...           0\n",
       "4  bihday amazing hilarious nephew eli ahmir uncl...           0"
      ]
     },
     "execution_count": 118,
     "metadata": {},
     "output_type": "execute_result"
    }
   ],
   "source": [
    "df.head()"
   ]
  },
  {
   "cell_type": "code",
   "execution_count": 120,
   "id": "98cd2055",
   "metadata": {},
   "outputs": [
    {
     "data": {
      "text/html": [
       "<div>\n",
       "<style scoped>\n",
       "    .dataframe tbody tr th:only-of-type {\n",
       "        vertical-align: middle;\n",
       "    }\n",
       "\n",
       "    .dataframe tbody tr th {\n",
       "        vertical-align: top;\n",
       "    }\n",
       "\n",
       "    .dataframe thead th {\n",
       "        text-align: right;\n",
       "    }\n",
       "</style>\n",
       "<table border=\"1\" class=\"dataframe\">\n",
       "  <thead>\n",
       "    <tr style=\"text-align: right;\">\n",
       "      <th></th>\n",
       "      <th>clean_tweet</th>\n",
       "      <th>Prediction</th>\n",
       "    </tr>\n",
       "  </thead>\n",
       "  <tbody>\n",
       "    <tr>\n",
       "      <th>0</th>\n",
       "      <td>studiolife aislife requires passion dedication...</td>\n",
       "      <td>0</td>\n",
       "    </tr>\n",
       "    <tr>\n",
       "      <th>1</th>\n",
       "      <td>white supremacist want everyone see new movie</td>\n",
       "      <td>0</td>\n",
       "    </tr>\n",
       "    <tr>\n",
       "      <th>2</th>\n",
       "      <td>safe way heal acne altwaystoheal healthy healing</td>\n",
       "      <td>0</td>\n",
       "    </tr>\n",
       "    <tr>\n",
       "      <th>3</th>\n",
       "      <td>hp cursed child book reservation already yes h...</td>\n",
       "      <td>0</td>\n",
       "    </tr>\n",
       "    <tr>\n",
       "      <th>4</th>\n",
       "      <td>bihday amazing hilarious nephew eli ahmir uncl...</td>\n",
       "      <td>0</td>\n",
       "    </tr>\n",
       "    <tr>\n",
       "      <th>...</th>\n",
       "      <td>...</td>\n",
       "      <td>...</td>\n",
       "    </tr>\n",
       "    <tr>\n",
       "      <th>17192</th>\n",
       "      <td>thought factory polarisation trump leadership ...</td>\n",
       "      <td>1</td>\n",
       "    </tr>\n",
       "    <tr>\n",
       "      <th>17193</th>\n",
       "      <td>feeling like mermaid hairflip neverready forma...</td>\n",
       "      <td>0</td>\n",
       "    </tr>\n",
       "    <tr>\n",
       "      <th>17194</th>\n",
       "      <td>hillary campaigned today ohio omg amp used wor...</td>\n",
       "      <td>0</td>\n",
       "    </tr>\n",
       "    <tr>\n",
       "      <th>17195</th>\n",
       "      <td>happy work conference right mindset lead organ...</td>\n",
       "      <td>0</td>\n",
       "    </tr>\n",
       "    <tr>\n",
       "      <th>17196</th>\n",
       "      <td>song glad free download shoegaze newmusic newsong</td>\n",
       "      <td>0</td>\n",
       "    </tr>\n",
       "  </tbody>\n",
       "</table>\n",
       "<p>17197 rows × 2 columns</p>\n",
       "</div>"
      ],
      "text/plain": [
       "                                             clean_tweet  Prediction\n",
       "0      studiolife aislife requires passion dedication...           0\n",
       "1          white supremacist want everyone see new movie           0\n",
       "2       safe way heal acne altwaystoheal healthy healing           0\n",
       "3      hp cursed child book reservation already yes h...           0\n",
       "4      bihday amazing hilarious nephew eli ahmir uncl...           0\n",
       "...                                                  ...         ...\n",
       "17192  thought factory polarisation trump leadership ...           1\n",
       "17193  feeling like mermaid hairflip neverready forma...           0\n",
       "17194  hillary campaigned today ohio omg amp used wor...           0\n",
       "17195  happy work conference right mindset lead organ...           0\n",
       "17196  song glad free download shoegaze newmusic newsong           0\n",
       "\n",
       "[17197 rows x 2 columns]"
      ]
     },
     "execution_count": 120,
     "metadata": {},
     "output_type": "execute_result"
    }
   ],
   "source": [
    "df"
   ]
  },
  {
   "cell_type": "code",
   "execution_count": 122,
   "id": "d431fae2",
   "metadata": {},
   "outputs": [
    {
     "data": {
      "text/plain": [
       "Text(0, 0.5, 'Count')"
      ]
     },
     "execution_count": 122,
     "metadata": {},
     "output_type": "execute_result"
    },
    {
     "data": {
      "image/png": "[encoded data removed]",
      "text/plain": [
       "<Figure size 504x360 with 1 Axes>"
      ]
     },
     "metadata": {},
     "output_type": "display_data"
    }
   ],
   "source": [
    "plt.figure(figsize=(7, 5))\n",
    "plt.title('Couting the labels', fontsize=13)\n",
    "sns.countplot(data=df, x='Prediction')\n",
    "plt.xlabel('Label', fontsize=12)\n",
    "plt.ylabel('Count', fontsize=12)"
   ]
  },
  {
   "cell_type": "code",
   "execution_count": null,
   "id": "7a3c8ef2",
   "metadata": {},
   "outputs": [],
   "source": []
  }
 ],
 "metadata": {
  "kernelspec": {
   "display_name": "Python 3",
   "language": "python",
   "name": "python3"
  },
  "language_info": {
   "codemirror_mode": {
    "name": "ipython",
    "version": 3
   },
   "file_extension": ".py",
   "mimetype": "text/x-python",
   "name": "python",
   "nbconvert_exporter": "python",
   "pygments_lexer": "ipython3",
   "version": "3.6.13"
  }
 },
 "nbformat": 4,
 "nbformat_minor": 5
}
