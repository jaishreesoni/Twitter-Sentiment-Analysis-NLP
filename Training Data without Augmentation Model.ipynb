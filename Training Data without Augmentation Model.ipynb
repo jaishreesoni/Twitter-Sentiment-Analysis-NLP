{
 "cells": [
  {
   "cell_type": "markdown",
   "metadata": {},
   "source": [
    "# 2. Twitter Sentiment Analysis: Training The data Without Augmentation"
   ]
  },
  {
   "cell_type": "code",
   "execution_count": 2,
   "metadata": {
    "executionInfo": {
     "elapsed": 1767,
     "status": "ok",
     "timestamp": 1628750074476,
     "user": {
      "displayName": "Abhishek Mishra",
      "photoUrl": "",
      "userId": "08628693600180822090"
     },
     "user_tz": -330
    },
    "id": "smOVfLtUEk9M"
   },
   "outputs": [],
   "source": [
    "import pandas as pd\n",
    "import matplotlib as plt\n",
    "import seaborn as sns\n",
    "import numpy as np\n",
    "import re\n",
    "\n",
    "import pandas as pd\n",
    "import numpy as np\n",
    "import matplotlib.pyplot as plt\n",
    "import seaborn as sns\n",
    "\n",
    "%matplotlib inline\n",
    "sns.set_style(\"whitegrid\")"
   ]
  },
  {
   "cell_type": "code",
   "execution_count": 3,
   "metadata": {
    "executionInfo": {
     "elapsed": 122,
     "status": "ok",
     "timestamp": 1628750074479,
     "user": {
      "displayName": "Abhishek Mishra",
      "photoUrl": "",
      "userId": "08628693600180822090"
     },
     "user_tz": -330
    },
    "id": "u93YlRjNKlnH"
   },
   "outputs": [],
   "source": [
    "df= pd.read_csv(\"train.csv\")"
   ]
  },
  {
   "cell_type": "code",
   "execution_count": 4,
   "metadata": {
    "colab": {
     "base_uri": "https://localhost:8080/",
     "height": 206
    },
    "executionInfo": {
     "elapsed": 120,
     "status": "ok",
     "timestamp": 1628750074484,
     "user": {
      "displayName": "Abhishek Mishra",
      "photoUrl": "",
      "userId": "08628693600180822090"
     },
     "user_tz": -330
    },
    "id": "hfEoyp0BK3cZ",
    "outputId": "5e91e83c-c308-4824-c6ad-b9c04b6adf10"
   },
   "outputs": [
    {
     "data": {
      "text/html": [
       "<div>\n",
       "<style scoped>\n",
       "    .dataframe tbody tr th:only-of-type {\n",
       "        vertical-align: middle;\n",
       "    }\n",
       "\n",
       "    .dataframe tbody tr th {\n",
       "        vertical-align: top;\n",
       "    }\n",
       "\n",
       "    .dataframe thead th {\n",
       "        text-align: right;\n",
       "    }\n",
       "</style>\n",
       "<table border=\"1\" class=\"dataframe\">\n",
       "  <thead>\n",
       "    <tr style=\"text-align: right;\">\n",
       "      <th></th>\n",
       "      <th>id</th>\n",
       "      <th>label</th>\n",
       "      <th>tweet</th>\n",
       "    </tr>\n",
       "  </thead>\n",
       "  <tbody>\n",
       "    <tr>\n",
       "      <th>0</th>\n",
       "      <td>1</td>\n",
       "      <td>0</td>\n",
       "      <td>@user when a father is dysfunctional and is s...</td>\n",
       "    </tr>\n",
       "    <tr>\n",
       "      <th>1</th>\n",
       "      <td>2</td>\n",
       "      <td>0</td>\n",
       "      <td>@user @user thanks for #lyft credit i can't us...</td>\n",
       "    </tr>\n",
       "    <tr>\n",
       "      <th>2</th>\n",
       "      <td>3</td>\n",
       "      <td>0</td>\n",
       "      <td>bihday your majesty</td>\n",
       "    </tr>\n",
       "    <tr>\n",
       "      <th>3</th>\n",
       "      <td>4</td>\n",
       "      <td>0</td>\n",
       "      <td>#model   i love u take with u all the time in ...</td>\n",
       "    </tr>\n",
       "    <tr>\n",
       "      <th>4</th>\n",
       "      <td>5</td>\n",
       "      <td>0</td>\n",
       "      <td>factsguide: society now    #motivation</td>\n",
       "    </tr>\n",
       "  </tbody>\n",
       "</table>\n",
       "</div>"
      ],
      "text/plain": [
       "   id  label                                              tweet\n",
       "0   1      0   @user when a father is dysfunctional and is s...\n",
       "1   2      0  @user @user thanks for #lyft credit i can't us...\n",
       "2   3      0                                bihday your majesty\n",
       "3   4      0  #model   i love u take with u all the time in ...\n",
       "4   5      0             factsguide: society now    #motivation"
      ]
     },
     "execution_count": 4,
     "metadata": {},
     "output_type": "execute_result"
    }
   ],
   "source": [
    "df.head()"
   ]
  },
  {
   "cell_type": "code",
   "execution_count": 5,
   "metadata": {
    "colab": {
     "base_uri": "https://localhost:8080/"
    },
    "executionInfo": {
     "elapsed": 110,
     "status": "ok",
     "timestamp": 1628750074487,
     "user": {
      "displayName": "Abhishek Mishra",
      "photoUrl": "",
      "userId": "08628693600180822090"
     },
     "user_tz": -330
    },
    "id": "xKuL2ow_Nph1",
    "outputId": "cc25f6a6-76bc-4760-8eec-beee8e454290"
   },
   "outputs": [
    {
     "data": {
      "text/plain": [
       "(31962, 3)"
      ]
     },
     "execution_count": 5,
     "metadata": {},
     "output_type": "execute_result"
    }
   ],
   "source": [
    "df.shape"
   ]
  },
  {
   "cell_type": "code",
   "execution_count": 6,
   "metadata": {
    "colab": {
     "base_uri": "https://localhost:8080/"
    },
    "executionInfo": {
     "elapsed": 99,
     "status": "ok",
     "timestamp": 1628750074489,
     "user": {
      "displayName": "Abhishek Mishra",
      "photoUrl": "",
      "userId": "08628693600180822090"
     },
     "user_tz": -330
    },
    "id": "35IfWMVTNsP5",
    "outputId": "e0bce7aa-8599-4eb3-e9df-64a340b7b161"
   },
   "outputs": [
    {
     "name": "stdout",
     "output_type": "stream",
     "text": [
      "<class 'pandas.core.frame.DataFrame'>\n",
      "RangeIndex: 31962 entries, 0 to 31961\n",
      "Data columns (total 3 columns):\n",
      " #   Column  Non-Null Count  Dtype \n",
      "---  ------  --------------  ----- \n",
      " 0   id      31962 non-null  int64 \n",
      " 1   label   31962 non-null  int64 \n",
      " 2   tweet   31962 non-null  object\n",
      "dtypes: int64(2), object(1)\n",
      "memory usage: 749.2+ KB\n"
     ]
    }
   ],
   "source": [
    "df.info()"
   ]
  },
  {
   "cell_type": "code",
   "execution_count": 7,
   "metadata": {
    "colab": {
     "base_uri": "https://localhost:8080/"
    },
    "executionInfo": {
     "elapsed": 96,
     "status": "ok",
     "timestamp": 1628750074492,
     "user": {
      "displayName": "Abhishek Mishra",
      "photoUrl": "",
      "userId": "08628693600180822090"
     },
     "user_tz": -330
    },
    "id": "iiNb33FHNw3L",
    "outputId": "da981fae-7e49-4b9d-8afc-9f18cda66b09"
   },
   "outputs": [
    {
     "data": {
      "text/plain": [
       "id       0\n",
       "label    0\n",
       "tweet    0\n",
       "dtype: int64"
      ]
     },
     "execution_count": 7,
     "metadata": {},
     "output_type": "execute_result"
    }
   ],
   "source": [
    "df.isnull().sum()"
   ]
  },
  {
   "cell_type": "code",
   "execution_count": 8,
   "metadata": {
    "colab": {
     "base_uri": "https://localhost:8080/"
    },
    "executionInfo": {
     "elapsed": 100,
     "status": "ok",
     "timestamp": 1628750074505,
     "user": {
      "displayName": "Abhishek Mishra",
      "photoUrl": "",
      "userId": "08628693600180822090"
     },
     "user_tz": -330
    },
    "id": "iie8aTWdK47p",
    "outputId": "856b3665-f8a9-4d68-f921-07d547d95566"
   },
   "outputs": [
    {
     "data": {
      "text/plain": [
       "0    29720\n",
       "1     2242\n",
       "Name: label, dtype: int64"
      ]
     },
     "execution_count": 8,
     "metadata": {},
     "output_type": "execute_result"
    }
   ],
   "source": [
    "df.label.value_counts()"
   ]
  },
  {
   "cell_type": "code",
   "execution_count": 10,
   "metadata": {
    "colab": {
     "base_uri": "https://localhost:8080/",
     "height": 296
    },
    "executionInfo": {
     "elapsed": 90,
     "status": "ok",
     "timestamp": 1628750074507,
     "user": {
      "displayName": "Abhishek Mishra",
      "photoUrl": "",
      "userId": "08628693600180822090"
     },
     "user_tz": -330
    },
    "id": "6MAkGQlZLK2H",
    "outputId": "69c3362d-1b85-456b-a1da-bc9bfb690d40"
   },
   "outputs": [
    {
     "data": {
      "image/png": "[encoded data removed]",
      "text/plain": [
       "<Figure size 504x504 with 1 Axes>"
      ]
     },
     "metadata": {},
     "output_type": "display_data"
    }
   ],
   "source": [
    "sns.set(style=\"whitegrid\")\n",
    "labels = ['Positive', 'Negative']\n",
    "sizes = df['label'].value_counts(sort = True)\n",
    "\n",
    "colors = [\"lightpink\",\"blue\"]\n",
    "explode = (0.05,0) \n",
    " \n",
    "plt.figure(figsize=(7,7))\n",
    "plt.pie(sizes, explode=explode, labels=labels, colors=colors, autopct='%1.1f%%', shadow=True, startangle=90,)\n",
    "\n",
    "plt.title('Sentiment')\n",
    "plt.legend()\n",
    "plt.show()"
   ]
  },
  {
   "cell_type": "code",
   "execution_count": 21,
   "metadata": {
    "executionInfo": {
     "elapsed": 83,
     "status": "ok",
     "timestamp": 1628750074509,
     "user": {
      "displayName": "Abhishek Mishra",
      "photoUrl": "",
      "userId": "08628693600180822090"
     },
     "user_tz": -330
    },
    "id": "2wf3ZUD6MDjt"
   },
   "outputs": [],
   "source": [
    "df.drop(\"id\",axis=1,inplace= True)"
   ]
  },
  {
   "cell_type": "code",
   "execution_count": 22,
   "metadata": {
    "executionInfo": {
     "elapsed": 82,
     "status": "ok",
     "timestamp": 1628750074512,
     "user": {
      "displayName": "Abhishek Mishra",
      "photoUrl": "",
      "userId": "08628693600180822090"
     },
     "user_tz": -330
    },
    "id": "89yG-dc7QOEQ"
   },
   "outputs": [],
   "source": [
    "# removes pattern in the input text\n",
    "def remove_pattern(input_txt, pattern):\n",
    "    r = re.findall(pattern, input_txt)\n",
    "    for word in r:\n",
    "        input_txt = re.sub(word, \"\", input_txt)\n",
    "    return input_txt"
   ]
  },
  {
   "cell_type": "code",
   "execution_count": 23,
   "metadata": {
    "executionInfo": {
     "elapsed": 82,
     "status": "ok",
     "timestamp": 1628750074515,
     "user": {
      "displayName": "Abhishek Mishra",
      "photoUrl": "",
      "userId": "08628693600180822090"
     },
     "user_tz": -330
    },
    "id": "YKc6Q2T5OEZK"
   },
   "outputs": [],
   "source": [
    "# remove twitter handles (@user)\n",
    "df['clean_tweet'] = np.vectorize(remove_pattern)(df['tweet'], \"@[\\w]*\")"
   ]
  },
  {
   "cell_type": "code",
   "execution_count": 24,
   "metadata": {
    "colab": {
     "base_uri": "https://localhost:8080/",
     "height": 206
    },
    "executionInfo": {
     "elapsed": 83,
     "status": "ok",
     "timestamp": 1628750074518,
     "user": {
      "displayName": "Abhishek Mishra",
      "photoUrl": "",
      "userId": "08628693600180822090"
     },
     "user_tz": -330
    },
    "id": "YH6euHWKQBsQ",
    "outputId": "1a41cc68-4b67-4057-fd71-4212b76ce358"
   },
   "outputs": [
    {
     "data": {
      "text/html": [
       "<div>\n",
       "<style scoped>\n",
       "    .dataframe tbody tr th:only-of-type {\n",
       "        vertical-align: middle;\n",
       "    }\n",
       "\n",
       "    .dataframe tbody tr th {\n",
       "        vertical-align: top;\n",
       "    }\n",
       "\n",
       "    .dataframe thead th {\n",
       "        text-align: right;\n",
       "    }\n",
       "</style>\n",
       "<table border=\"1\" class=\"dataframe\">\n",
       "  <thead>\n",
       "    <tr style=\"text-align: right;\">\n",
       "      <th></th>\n",
       "      <th>label</th>\n",
       "      <th>tweet</th>\n",
       "      <th>clean_tweet</th>\n",
       "    </tr>\n",
       "  </thead>\n",
       "  <tbody>\n",
       "    <tr>\n",
       "      <th>0</th>\n",
       "      <td>0</td>\n",
       "      <td>@user when a father is dysfunctional and is s...</td>\n",
       "      <td>when a father is dysfunctional and is so sel...</td>\n",
       "    </tr>\n",
       "    <tr>\n",
       "      <th>1</th>\n",
       "      <td>0</td>\n",
       "      <td>@user @user thanks for #lyft credit i can't us...</td>\n",
       "      <td>thanks for #lyft credit i can't use cause th...</td>\n",
       "    </tr>\n",
       "    <tr>\n",
       "      <th>2</th>\n",
       "      <td>0</td>\n",
       "      <td>bihday your majesty</td>\n",
       "      <td>bihday your majesty</td>\n",
       "    </tr>\n",
       "    <tr>\n",
       "      <th>3</th>\n",
       "      <td>0</td>\n",
       "      <td>#model   i love u take with u all the time in ...</td>\n",
       "      <td>#model   i love u take with u all the time in ...</td>\n",
       "    </tr>\n",
       "    <tr>\n",
       "      <th>4</th>\n",
       "      <td>0</td>\n",
       "      <td>factsguide: society now    #motivation</td>\n",
       "      <td>factsguide: society now    #motivation</td>\n",
       "    </tr>\n",
       "  </tbody>\n",
       "</table>\n",
       "</div>"
      ],
      "text/plain": [
       "   label                                              tweet  \\\n",
       "0      0   @user when a father is dysfunctional and is s...   \n",
       "1      0  @user @user thanks for #lyft credit i can't us...   \n",
       "2      0                                bihday your majesty   \n",
       "3      0  #model   i love u take with u all the time in ...   \n",
       "4      0             factsguide: society now    #motivation   \n",
       "\n",
       "                                         clean_tweet  \n",
       "0    when a father is dysfunctional and is so sel...  \n",
       "1    thanks for #lyft credit i can't use cause th...  \n",
       "2                                bihday your majesty  \n",
       "3  #model   i love u take with u all the time in ...  \n",
       "4             factsguide: society now    #motivation  "
      ]
     },
     "execution_count": 24,
     "metadata": {},
     "output_type": "execute_result"
    }
   ],
   "source": [
    "df.head()"
   ]
  },
  {
   "cell_type": "code",
   "execution_count": 25,
   "metadata": {
    "colab": {
     "base_uri": "https://localhost:8080/",
     "height": 206
    },
    "executionInfo": {
     "elapsed": 1723,
     "status": "ok",
     "timestamp": 1628750076163,
     "user": {
      "displayName": "Abhishek Mishra",
      "photoUrl": "",
      "userId": "08628693600180822090"
     },
     "user_tz": -330
    },
    "id": "7Fl7YiCNQYIM",
    "outputId": "f897a8c2-2c2a-451f-fea4-fce765143177"
   },
   "outputs": [
    {
     "name": "stderr",
     "output_type": "stream",
     "text": [
      "<ipython-input-25-9ce3b175e823>:2: FutureWarning: The default value of regex will change from True to False in a future version.\n",
      "  df['clean_tweet'] = df['clean_tweet'].str.replace(\"[^a-zA-Z#]\", \" \")\n"
     ]
    },
    {
     "data": {
      "text/html": [
       "<div>\n",
       "<style scoped>\n",
       "    .dataframe tbody tr th:only-of-type {\n",
       "        vertical-align: middle;\n",
       "    }\n",
       "\n",
       "    .dataframe tbody tr th {\n",
       "        vertical-align: top;\n",
       "    }\n",
       "\n",
       "    .dataframe thead th {\n",
       "        text-align: right;\n",
       "    }\n",
       "</style>\n",
       "<table border=\"1\" class=\"dataframe\">\n",
       "  <thead>\n",
       "    <tr style=\"text-align: right;\">\n",
       "      <th></th>\n",
       "      <th>label</th>\n",
       "      <th>tweet</th>\n",
       "      <th>clean_tweet</th>\n",
       "    </tr>\n",
       "  </thead>\n",
       "  <tbody>\n",
       "    <tr>\n",
       "      <th>0</th>\n",
       "      <td>0</td>\n",
       "      <td>@user when a father is dysfunctional and is s...</td>\n",
       "      <td>when a father is dysfunctional and is so sel...</td>\n",
       "    </tr>\n",
       "    <tr>\n",
       "      <th>1</th>\n",
       "      <td>0</td>\n",
       "      <td>@user @user thanks for #lyft credit i can't us...</td>\n",
       "      <td>thanks for #lyft credit i can t use cause th...</td>\n",
       "    </tr>\n",
       "    <tr>\n",
       "      <th>2</th>\n",
       "      <td>0</td>\n",
       "      <td>bihday your majesty</td>\n",
       "      <td>bihday your majesty</td>\n",
       "    </tr>\n",
       "    <tr>\n",
       "      <th>3</th>\n",
       "      <td>0</td>\n",
       "      <td>#model   i love u take with u all the time in ...</td>\n",
       "      <td>#model   i love u take with u all the time in ...</td>\n",
       "    </tr>\n",
       "    <tr>\n",
       "      <th>4</th>\n",
       "      <td>0</td>\n",
       "      <td>factsguide: society now    #motivation</td>\n",
       "      <td>factsguide  society now    #motivation</td>\n",
       "    </tr>\n",
       "  </tbody>\n",
       "</table>\n",
       "</div>"
      ],
      "text/plain": [
       "   label                                              tweet  \\\n",
       "0      0   @user when a father is dysfunctional and is s...   \n",
       "1      0  @user @user thanks for #lyft credit i can't us...   \n",
       "2      0                                bihday your majesty   \n",
       "3      0  #model   i love u take with u all the time in ...   \n",
       "4      0             factsguide: society now    #motivation   \n",
       "\n",
       "                                         clean_tweet  \n",
       "0    when a father is dysfunctional and is so sel...  \n",
       "1    thanks for #lyft credit i can t use cause th...  \n",
       "2                                bihday your majesty  \n",
       "3  #model   i love u take with u all the time in ...  \n",
       "4             factsguide  society now    #motivation  "
      ]
     },
     "execution_count": 25,
     "metadata": {},
     "output_type": "execute_result"
    }
   ],
   "source": [
    "# remove special characters, numbers and punctuations\n",
    "df['clean_tweet'] = df['clean_tweet'].str.replace(\"[^a-zA-Z#]\", \" \")\n",
    "df.head()"
   ]
  },
  {
   "cell_type": "code",
   "execution_count": 26,
   "metadata": {
    "colab": {
     "base_uri": "https://localhost:8080/"
    },
    "executionInfo": {
     "elapsed": 101,
     "status": "ok",
     "timestamp": 1628750076167,
     "user": {
      "displayName": "Abhishek Mishra",
      "photoUrl": "",
      "userId": "08628693600180822090"
     },
     "user_tz": -330
    },
    "id": "P2F5wfuuQrwc",
    "outputId": "67a51536-1362-4a1e-b43c-57141a106faa"
   },
   "outputs": [
    {
     "name": "stderr",
     "output_type": "stream",
     "text": [
      "[nltk_data] Downloading package punkt to\n",
      "[nltk_data]     C:\\Users\\abhim\\AppData\\Roaming\\nltk_data...\n",
      "[nltk_data]   Package punkt is already up-to-date!\n",
      "[nltk_data] Downloading package wordnet to\n",
      "[nltk_data]     C:\\Users\\abhim\\AppData\\Roaming\\nltk_data...\n",
      "[nltk_data]   Package wordnet is already up-to-date!\n",
      "[nltk_data] Downloading package stopwords to\n",
      "[nltk_data]     C:\\Users\\abhim\\AppData\\Roaming\\nltk_data...\n",
      "[nltk_data]   Package stopwords is already up-to-date!\n"
     ]
    }
   ],
   "source": [
    "import nltk\n",
    "nltk.download('punkt')\n",
    "nltk.download('wordnet')\n",
    "nltk.download('stopwords')\n",
    "\n",
    "from nltk.tokenize import word_tokenize\n",
    "from nltk.stem import WordNetLemmatizer\n",
    "from nltk.corpus import stopwords"
   ]
  },
  {
   "cell_type": "code",
   "execution_count": null,
   "metadata": {
    "executionInfo": {
     "elapsed": 82,
     "status": "ok",
     "timestamp": 1628750076173,
     "user": {
      "displayName": "Abhishek Mishra",
      "photoUrl": "",
      "userId": "08628693600180822090"
     },
     "user_tz": -330
    },
    "id": "Tj5LsTmgTNiN"
   },
   "outputs": [],
   "source": []
  },
  {
   "cell_type": "code",
   "execution_count": 15,
   "metadata": {
    "executionInfo": {
     "elapsed": 80,
     "status": "ok",
     "timestamp": 1628750076178,
     "user": {
      "displayName": "Abhishek Mishra",
      "photoUrl": "",
      "userId": "08628693600180822090"
     },
     "user_tz": -330
    },
    "id": "hSyAO-TMTNHv"
   },
   "outputs": [
    {
     "name": "stdout",
     "output_type": "stream",
     "text": [
      "Requirement already satisfied: tensorflow in c:\\users\\abhim\\anaconda3\\lib\\site-packages (2.6.0)\n",
      "Requirement already satisfied: clang~=5.0 in c:\\users\\abhim\\anaconda3\\lib\\site-packages (from tensorflow) (5.0)\n",
      "Requirement already satisfied: keras-preprocessing~=1.1.2 in c:\\users\\abhim\\anaconda3\\lib\\site-packages (from tensorflow) (1.1.2)\n",
      "Requirement already satisfied: typing-extensions~=3.7.4 in c:\\users\\abhim\\anaconda3\\lib\\site-packages (from tensorflow) (3.7.4.3)\n",
      "Requirement already satisfied: h5py~=3.1.0 in c:\\users\\abhim\\anaconda3\\lib\\site-packages (from tensorflow) (3.1.0)\n",
      "Requirement already satisfied: keras~=2.6 in c:\\users\\abhim\\anaconda3\\lib\\site-packages (from tensorflow) (2.6.0)\n",
      "Requirement already satisfied: numpy~=1.19.2 in c:\\users\\abhim\\anaconda3\\lib\\site-packages (from tensorflow) (1.19.5)\n",
      "Requirement already satisfied: grpcio<2.0,>=1.37.0 in c:\\users\\abhim\\anaconda3\\lib\\site-packages (from tensorflow) (1.39.0)\n",
      "Requirement already satisfied: tensorflow-estimator~=2.6 in c:\\users\\abhim\\anaconda3\\lib\\site-packages (from tensorflow) (2.6.0)\n",
      "Requirement already satisfied: protobuf>=3.9.2 in c:\\users\\abhim\\anaconda3\\lib\\site-packages (from tensorflow) (3.17.3)\n",
      "Requirement already satisfied: opt-einsum~=3.3.0 in c:\\users\\abhim\\anaconda3\\lib\\site-packages (from tensorflow) (3.3.0)\n",
      "Requirement already satisfied: astunparse~=1.6.3 in c:\\users\\abhim\\anaconda3\\lib\\site-packages (from tensorflow) (1.6.3)\n",
      "Requirement already satisfied: flatbuffers~=1.12.0 in c:\\users\\abhim\\anaconda3\\lib\\site-packages (from tensorflow) (1.12)\n",
      "Requirement already satisfied: wheel~=0.35 in c:\\users\\abhim\\anaconda3\\lib\\site-packages (from tensorflow) (0.36.2)\n",
      "Requirement already satisfied: google-pasta~=0.2 in c:\\users\\abhim\\anaconda3\\lib\\site-packages (from tensorflow) (0.2.0)\n",
      "Requirement already satisfied: gast==0.4.0 in c:\\users\\abhim\\anaconda3\\lib\\site-packages (from tensorflow) (0.4.0)\n",
      "Requirement already satisfied: absl-py~=0.10 in c:\\users\\abhim\\anaconda3\\lib\\site-packages (from tensorflow) (0.13.0)\n",
      "Requirement already satisfied: wrapt~=1.12.1 in c:\\users\\abhim\\anaconda3\\lib\\site-packages (from tensorflow) (1.12.1)\n",
      "Requirement already satisfied: tensorboard~=2.6 in c:\\users\\abhim\\anaconda3\\lib\\site-packages (from tensorflow) (2.6.0)\n",
      "Requirement already satisfied: termcolor~=1.1.0 in c:\\users\\abhim\\anaconda3\\lib\\site-packages (from tensorflow) (1.1.0)\n",
      "Requirement already satisfied: six~=1.15.0 in c:\\users\\abhim\\anaconda3\\lib\\site-packages (from tensorflow) (1.15.0)\n",
      "Requirement already satisfied: markdown>=2.6.8 in c:\\users\\abhim\\anaconda3\\lib\\site-packages (from tensorboard~=2.6->tensorflow) (3.3.4)\n",
      "Requirement already satisfied: tensorboard-plugin-wit>=1.6.0 in c:\\users\\abhim\\anaconda3\\lib\\site-packages (from tensorboard~=2.6->tensorflow) (1.8.0)\n",
      "Requirement already satisfied: werkzeug>=0.11.15 in c:\\users\\abhim\\anaconda3\\lib\\site-packages (from tensorboard~=2.6->tensorflow) (1.0.1)\n",
      "Requirement already satisfied: tensorboard-data-server<0.7.0,>=0.6.0 in c:\\users\\abhim\\anaconda3\\lib\\site-packages (from tensorboard~=2.6->tensorflow) (0.6.1)\n",
      "Requirement already satisfied: setuptools>=41.0.0 in c:\\users\\abhim\\anaconda3\\lib\\site-packages (from tensorboard~=2.6->tensorflow) (52.0.0.post20210125)\n",
      "Requirement already satisfied: google-auth-oauthlib<0.5,>=0.4.1 in c:\\users\\abhim\\anaconda3\\lib\\site-packages (from tensorboard~=2.6->tensorflow) (0.4.5)\n",
      "Requirement already satisfied: requests<3,>=2.21.0 in c:\\users\\abhim\\anaconda3\\lib\\site-packages (from tensorboard~=2.6->tensorflow) (2.25.1)\n",
      "Requirement already satisfied: google-auth<2,>=1.6.3 in c:\\users\\abhim\\anaconda3\\lib\\site-packages (from tensorboard~=2.6->tensorflow) (1.34.0)\n",
      "Requirement already satisfied: rsa<5,>=3.1.4 in c:\\users\\abhim\\anaconda3\\lib\\site-packages (from google-auth<2,>=1.6.3->tensorboard~=2.6->tensorflow) (4.7.2)\n",
      "Requirement already satisfied: cachetools<5.0,>=2.0.0 in c:\\users\\abhim\\anaconda3\\lib\\site-packages (from google-auth<2,>=1.6.3->tensorboard~=2.6->tensorflow) (4.2.2)\n",
      "Requirement already satisfied: pyasn1-modules>=0.2.1 in c:\\users\\abhim\\anaconda3\\lib\\site-packages (from google-auth<2,>=1.6.3->tensorboard~=2.6->tensorflow) (0.2.8)\n",
      "Requirement already satisfied: requests-oauthlib>=0.7.0 in c:\\users\\abhim\\anaconda3\\lib\\site-packages (from google-auth-oauthlib<0.5,>=0.4.1->tensorboard~=2.6->tensorflow) (1.3.0)\n",
      "Requirement already satisfied: pyasn1<0.5.0,>=0.4.6 in c:\\users\\abhim\\anaconda3\\lib\\site-packages (from pyasn1-modules>=0.2.1->google-auth<2,>=1.6.3->tensorboard~=2.6->tensorflow) (0.4.8)\n",
      "Requirement already satisfied: certifi>=2017.4.17 in c:\\users\\abhim\\anaconda3\\lib\\site-packages (from requests<3,>=2.21.0->tensorboard~=2.6->tensorflow) (2020.12.5)\n",
      "Requirement already satisfied: idna<3,>=2.5 in c:\\users\\abhim\\anaconda3\\lib\\site-packages (from requests<3,>=2.21.0->tensorboard~=2.6->tensorflow) (2.10)\n",
      "Requirement already satisfied: urllib3<1.27,>=1.21.1 in c:\\users\\abhim\\anaconda3\\lib\\site-packages (from requests<3,>=2.21.0->tensorboard~=2.6->tensorflow) (1.26.4)\n",
      "Requirement already satisfied: chardet<5,>=3.0.2 in c:\\users\\abhim\\anaconda3\\lib\\site-packages (from requests<3,>=2.21.0->tensorboard~=2.6->tensorflow) (4.0.0)\n",
      "Requirement already satisfied: oauthlib>=3.0.0 in c:\\users\\abhim\\anaconda3\\lib\\site-packages (from requests-oauthlib>=0.7.0->google-auth-oauthlib<0.5,>=0.4.1->tensorboard~=2.6->tensorflow) (3.1.1)Note: you may need to restart the kernel to use updated packages.\n",
      "\n"
     ]
    }
   ],
   "source": [
    "pip install tensorflow"
   ]
  },
  {
   "cell_type": "code",
   "execution_count": 16,
   "metadata": {
    "executionInfo": {
     "elapsed": 73,
     "status": "ok",
     "timestamp": 1628750076181,
     "user": {
      "displayName": "Abhishek Mishra",
      "photoUrl": "",
      "userId": "08628693600180822090"
     },
     "user_tz": -330
    },
    "id": "DLRMHeSzRQKe"
   },
   "outputs": [],
   "source": [
    "def clean_documents(document):\n",
    "  stop = stopwords.words('english')\n",
    "  tokens = word_tokenize(document.lower())\n",
    "\n",
    "  word_tokens = [token for token in tokens if token.isalpha()]\n",
    "  clean_tokens = [token for token in word_tokens if token not in stop]\n",
    "\n",
    "  lemmatizer = WordNetLemmatizer()\n",
    "  lemmatized_tokens = [lemmatizer.lemmatize(token) for token in clean_tokens]\n",
    "\n",
    "  return \" \".join(lemmatized_tokens)"
   ]
  },
  {
   "cell_type": "code",
   "execution_count": 17,
   "metadata": {
    "executionInfo": {
     "elapsed": 13752,
     "status": "ok",
     "timestamp": 1628750089870,
     "user": {
      "displayName": "Abhishek Mishra",
      "photoUrl": "",
      "userId": "08628693600180822090"
     },
     "user_tz": -330
    },
    "id": "bY2f8HKnSEB7"
   },
   "outputs": [],
   "source": [
    "df[\"clean_tweet\"] = df[\"clean_tweet\"].apply(clean_documents)"
   ]
  },
  {
   "cell_type": "code",
   "execution_count": 18,
   "metadata": {
    "colab": {
     "base_uri": "https://localhost:8080/",
     "height": 206
    },
    "executionInfo": {
     "elapsed": 46,
     "status": "ok",
     "timestamp": 1628750089875,
     "user": {
      "displayName": "Abhishek Mishra",
      "photoUrl": "",
      "userId": "08628693600180822090"
     },
     "user_tz": -330
    },
    "id": "d9nvRMChTCBD",
    "outputId": "7dde846f-36e3-4178-c9d4-23129f0b3351"
   },
   "outputs": [
    {
     "data": {
      "text/html": [
       "<div>\n",
       "<style scoped>\n",
       "    .dataframe tbody tr th:only-of-type {\n",
       "        vertical-align: middle;\n",
       "    }\n",
       "\n",
       "    .dataframe tbody tr th {\n",
       "        vertical-align: top;\n",
       "    }\n",
       "\n",
       "    .dataframe thead th {\n",
       "        text-align: right;\n",
       "    }\n",
       "</style>\n",
       "<table border=\"1\" class=\"dataframe\">\n",
       "  <thead>\n",
       "    <tr style=\"text-align: right;\">\n",
       "      <th></th>\n",
       "      <th>label</th>\n",
       "      <th>tweet</th>\n",
       "      <th>clean_tweet</th>\n",
       "    </tr>\n",
       "  </thead>\n",
       "  <tbody>\n",
       "    <tr>\n",
       "      <th>0</th>\n",
       "      <td>0</td>\n",
       "      <td>@user when a father is dysfunctional and is s...</td>\n",
       "      <td>father dysfunctional selfish drag kid dysfunct...</td>\n",
       "    </tr>\n",
       "    <tr>\n",
       "      <th>1</th>\n",
       "      <td>0</td>\n",
       "      <td>@user @user thanks for #lyft credit i can't us...</td>\n",
       "      <td>thanks lyft credit use cause offer wheelchair ...</td>\n",
       "    </tr>\n",
       "    <tr>\n",
       "      <th>2</th>\n",
       "      <td>0</td>\n",
       "      <td>bihday your majesty</td>\n",
       "      <td>bihday majesty</td>\n",
       "    </tr>\n",
       "    <tr>\n",
       "      <th>3</th>\n",
       "      <td>0</td>\n",
       "      <td>#model   i love u take with u all the time in ...</td>\n",
       "      <td>model love u take u time ur</td>\n",
       "    </tr>\n",
       "    <tr>\n",
       "      <th>4</th>\n",
       "      <td>0</td>\n",
       "      <td>factsguide: society now    #motivation</td>\n",
       "      <td>factsguide society motivation</td>\n",
       "    </tr>\n",
       "  </tbody>\n",
       "</table>\n",
       "</div>"
      ],
      "text/plain": [
       "   label                                              tweet  \\\n",
       "0      0   @user when a father is dysfunctional and is s...   \n",
       "1      0  @user @user thanks for #lyft credit i can't us...   \n",
       "2      0                                bihday your majesty   \n",
       "3      0  #model   i love u take with u all the time in ...   \n",
       "4      0             factsguide: society now    #motivation   \n",
       "\n",
       "                                         clean_tweet  \n",
       "0  father dysfunctional selfish drag kid dysfunct...  \n",
       "1  thanks lyft credit use cause offer wheelchair ...  \n",
       "2                                     bihday majesty  \n",
       "3                        model love u take u time ur  \n",
       "4                      factsguide society motivation  "
      ]
     },
     "execution_count": 18,
     "metadata": {},
     "output_type": "execute_result"
    }
   ],
   "source": [
    "df.head()"
   ]
  },
  {
   "cell_type": "code",
   "execution_count": 19,
   "metadata": {
    "executionInfo": {
     "elapsed": 49,
     "status": "ok",
     "timestamp": 1628750089889,
     "user": {
      "displayName": "Abhishek Mishra",
      "photoUrl": "",
      "userId": "08628693600180822090"
     },
     "user_tz": -330
    },
    "id": "XFYVSnSYTGXz"
   },
   "outputs": [],
   "source": [
    "X=df.clean_tweet\n",
    "y=df.label"
   ]
  },
  {
   "cell_type": "code",
   "execution_count": 20,
   "metadata": {
    "colab": {
     "base_uri": "https://localhost:8080/"
    },
    "executionInfo": {
     "elapsed": 50,
     "status": "ok",
     "timestamp": 1628750089892,
     "user": {
      "displayName": "Abhishek Mishra",
      "photoUrl": "",
      "userId": "08628693600180822090"
     },
     "user_tz": -330
    },
    "id": "lxz2cqx3T4XJ",
    "outputId": "68485af8-f0a0-4362-8283-3d92e54e0f51"
   },
   "outputs": [
    {
     "data": {
      "text/plain": [
       "0    father dysfunctional selfish drag kid dysfunct...\n",
       "1    thanks lyft credit use cause offer wheelchair ...\n",
       "2                                       bihday majesty\n",
       "3                          model love u take u time ur\n",
       "4                        factsguide society motivation\n",
       "Name: clean_tweet, dtype: object"
      ]
     },
     "execution_count": 20,
     "metadata": {},
     "output_type": "execute_result"
    }
   ],
   "source": [
    "X.head()"
   ]
  },
  {
   "cell_type": "code",
   "execution_count": 21,
   "metadata": {
    "colab": {
     "base_uri": "https://localhost:8080/"
    },
    "executionInfo": {
     "elapsed": 47,
     "status": "ok",
     "timestamp": 1628750089894,
     "user": {
      "displayName": "Abhishek Mishra",
      "photoUrl": "",
      "userId": "08628693600180822090"
     },
     "user_tz": -330
    },
    "id": "PLuwlvJ2T6hs",
    "outputId": "09a2daf3-d9bc-4694-8c1b-87813ca73760"
   },
   "outputs": [
    {
     "data": {
      "text/plain": [
       "0    0\n",
       "1    0\n",
       "2    0\n",
       "3    0\n",
       "4    0\n",
       "Name: label, dtype: int64"
      ]
     },
     "execution_count": 21,
     "metadata": {},
     "output_type": "execute_result"
    }
   ],
   "source": [
    "y.head()"
   ]
  },
  {
   "cell_type": "markdown",
   "metadata": {},
   "source": [
    "## Ml Model"
   ]
  },
  {
   "cell_type": "code",
   "execution_count": 22,
   "metadata": {
    "executionInfo": {
     "elapsed": 46,
     "status": "ok",
     "timestamp": 1628750089898,
     "user": {
      "displayName": "Abhishek Mishra",
      "photoUrl": "",
      "userId": "08628693600180822090"
     },
     "user_tz": -330
    },
    "id": "tK47qi8UWmSG"
   },
   "outputs": [],
   "source": [
    "from sklearn.feature_extraction.text import TfidfVectorizer\n",
    "from sklearn.feature_extraction.text import CountVectorizer"
   ]
  },
  {
   "cell_type": "code",
   "execution_count": 23,
   "metadata": {
    "executionInfo": {
     "elapsed": 1662,
     "status": "ok",
     "timestamp": 1628750091515,
     "user": {
      "displayName": "Abhishek Mishra",
      "photoUrl": "",
      "userId": "08628693600180822090"
     },
     "user_tz": -330
    },
    "id": "xg6fqSXBUDfi"
   },
   "outputs": [],
   "source": [
    "from sklearn.model_selection import train_test_split\n",
    "X_train, X_test, y_train, y_test = train_test_split(X,y, test_size=0.3, random_state=1)\n",
    "# CountVectorizer\n",
    "cv = CountVectorizer(min_df=0,max_df=1,binary=False,ngram_range=(1,3))\n",
    "X_train_cv = cv.fit_transform(X_train)\n",
    "X_test_cv = cv.transform(X_test)"
   ]
  },
  {
   "cell_type": "code",
   "execution_count": 24,
   "metadata": {
    "executionInfo": {
     "elapsed": 15,
     "status": "ok",
     "timestamp": 1628750091516,
     "user": {
      "displayName": "Abhishek Mishra",
      "photoUrl": "",
      "userId": "08628693600180822090"
     },
     "user_tz": -330
    },
    "id": "oL_dal0JWfAZ"
   },
   "outputs": [],
   "source": [
    "# import Random Forest Classifier\n",
    "from sklearn.ensemble import RandomForestClassifier\n",
    "\n",
    "from sklearn.metrics import classification_report"
   ]
  },
  {
   "cell_type": "code",
   "execution_count": 25,
   "metadata": {
    "colab": {
     "base_uri": "https://localhost:8080/"
    },
    "executionInfo": {
     "elapsed": 237628,
     "status": "ok",
     "timestamp": 1628750329132,
     "user": {
      "displayName": "Abhishek Mishra",
      "photoUrl": "",
      "userId": "08628693600180822090"
     },
     "user_tz": -330
    },
    "id": "4FERZvdKW3uN",
    "outputId": "11fd2a6c-b092-4819-807e-b0adb66e6a21"
   },
   "outputs": [
    {
     "data": {
      "text/plain": [
       "RandomForestClassifier()"
      ]
     },
     "execution_count": 25,
     "metadata": {},
     "output_type": "execute_result"
    }
   ],
   "source": [
    "rfc = RandomForestClassifier()\n",
    "rfc.fit(X_train_cv, y_train) "
   ]
  },
  {
   "cell_type": "code",
   "execution_count": 26,
   "metadata": {
    "colab": {
     "base_uri": "https://localhost:8080/"
    },
    "executionInfo": {
     "elapsed": 52288,
     "status": "ok",
     "timestamp": 1628750381408,
     "user": {
      "displayName": "Abhishek Mishra",
      "photoUrl": "",
      "userId": "08628693600180822090"
     },
     "user_tz": -330
    },
    "id": "kGhrsGozXFkx",
    "outputId": "017b5e00-f499-48ad-b4ff-f76e96f8ecdf"
   },
   "outputs": [
    {
     "name": "stdout",
     "output_type": "stream",
     "text": [
      "              precision    recall  f1-score   support\n",
      "\n",
      "           0       0.94      1.00      0.97      8940\n",
      "           1       1.00      0.14      0.24       649\n",
      "\n",
      "    accuracy                           0.94      9589\n",
      "   macro avg       0.97      0.57      0.61      9589\n",
      "weighted avg       0.95      0.94      0.92      9589\n",
      "\n"
     ]
    }
   ],
   "source": [
    "y_pred = rfc.predict(X_test_cv)\n",
    "print(classification_report(y_test,y_pred))"
   ]
  },
  {
   "cell_type": "code",
   "execution_count": 27,
   "metadata": {
    "executionInfo": {
     "elapsed": 1676,
     "status": "ok",
     "timestamp": 1628750383045,
     "user": {
      "displayName": "Abhishek Mishra",
      "photoUrl": "",
      "userId": "08628693600180822090"
     },
     "user_tz": -330
    },
    "id": "WVkUYMKGXIZz"
   },
   "outputs": [],
   "source": [
    "# TfidfVectorizer\n",
    "tf = TfidfVectorizer(stop_words= 'english', ngram_range= (1,3), lowercase= True, max_features= 5000)\n",
    "X_train_tf = tf.fit_transform(X_train)\n",
    "X_test_tf = tf.transform(X_test)"
   ]
  },
  {
   "cell_type": "code",
   "execution_count": 28,
   "metadata": {
    "colab": {
     "base_uri": "https://localhost:8080/"
    },
    "executionInfo": {
     "elapsed": 12908,
     "status": "ok",
     "timestamp": 1628750395924,
     "user": {
      "displayName": "Abhishek Mishra",
      "photoUrl": "",
      "userId": "08628693600180822090"
     },
     "user_tz": -330
    },
    "id": "I3BpClv-ZCEd",
    "outputId": "3bbe1f9f-3a9f-4f7e-e218-87003d8eb4f3"
   },
   "outputs": [
    {
     "data": {
      "text/plain": [
       "RandomForestClassifier()"
      ]
     },
     "execution_count": 28,
     "metadata": {},
     "output_type": "execute_result"
    }
   ],
   "source": [
    "rfc = RandomForestClassifier()\n",
    "rfc.fit(X_train_tf, y_train) "
   ]
  },
  {
   "cell_type": "code",
   "execution_count": 29,
   "metadata": {
    "colab": {
     "base_uri": "https://localhost:8080/"
    },
    "executionInfo": {
     "elapsed": 1734,
     "status": "ok",
     "timestamp": 1628750397643,
     "user": {
      "displayName": "Abhishek Mishra",
      "photoUrl": "",
      "userId": "08628693600180822090"
     },
     "user_tz": -330
    },
    "id": "aIXbC7ueZISP",
    "outputId": "2d6a787b-d707-475e-c7d2-5733fdc04f8e"
   },
   "outputs": [
    {
     "name": "stdout",
     "output_type": "stream",
     "text": [
      "              precision    recall  f1-score   support\n",
      "\n",
      "           0       0.97      0.99      0.98      8940\n",
      "           1       0.81      0.53      0.64       649\n",
      "\n",
      "    accuracy                           0.96      9589\n",
      "   macro avg       0.89      0.76      0.81      9589\n",
      "weighted avg       0.96      0.96      0.96      9589\n",
      "\n"
     ]
    }
   ],
   "source": [
    "y_pred = rfc.predict(X_test_tf)\n",
    "print(classification_report(y_test,y_pred))"
   ]
  },
  {
   "cell_type": "markdown",
   "metadata": {},
   "source": [
    "## NN Model"
   ]
  },
  {
   "cell_type": "code",
   "execution_count": 30,
   "metadata": {
    "executionInfo": {
     "elapsed": 1609,
     "status": "ok",
     "timestamp": 1628750399227,
     "user": {
      "displayName": "Abhishek Mishra",
      "photoUrl": "",
      "userId": "08628693600180822090"
     },
     "user_tz": -330
    },
    "id": "7UwxgmrWbCL1"
   },
   "outputs": [],
   "source": [
    "# NN\n",
    "from tensorflow.keras.preprocessing.text import Tokenizer\n",
    "from tensorflow.keras.preprocessing import sequence\n",
    "from tensorflow.keras.models import Sequential\n",
    "from tensorflow.keras.layers import Dense, Embedding, Flatten, SimpleRNN, Bidirectional, LSTM, GRU "
   ]
  },
  {
   "cell_type": "code",
   "execution_count": 31,
   "metadata": {
    "executionInfo": {
     "elapsed": 32,
     "status": "ok",
     "timestamp": 1628750399229,
     "user": {
      "displayName": "Abhishek Mishra",
      "photoUrl": "",
      "userId": "08628693600180822090"
     },
     "user_tz": -330
    },
    "id": "Bxwh7Aez8xPK"
   },
   "outputs": [],
   "source": [
    "# Processing text\n",
    "\n",
    "tokenizer = Tokenizer()\n",
    "tokenizer.fit_on_texts(X_train)"
   ]
  },
  {
   "cell_type": "code",
   "execution_count": 32,
   "metadata": {
    "colab": {
     "base_uri": "https://localhost:8080/"
    },
    "executionInfo": {
     "elapsed": 403,
     "status": "ok",
     "timestamp": 1628750425951,
     "user": {
      "displayName": "Abhishek Mishra",
      "photoUrl": "",
      "userId": "08628693600180822090"
     },
     "user_tz": -330
    },
    "id": "uScf_Rxx9C0h",
    "outputId": "6770167b-815b-4373-eaac-0762efc42193"
   },
   "outputs": [
    {
     "data": {
      "text/plain": [
       "{1: 'day',\n",
       " 2: 'love',\n",
       " 3: 'amp',\n",
       " 4: 'happy',\n",
       " 5: 'u',\n",
       " 6: 'time',\n",
       " 7: 'life',\n",
       " 8: 'like',\n",
       " 9: 'today',\n",
       " 10: 'thankful',\n",
       " 11: 'new',\n",
       " 12: 'get',\n",
       " 13: 'positive',\n",
       " 14: 'father',\n",
       " 15: 'people',\n",
       " 16: 'smile',\n",
       " 17: 'good',\n",
       " 18: 'bihday',\n",
       " 19: 'make',\n",
       " 20: 'one',\n",
       " 21: 'see',\n",
       " 22: 'go',\n",
       " 23: 'friend',\n",
       " 24: 'want',\n",
       " 25: 'take',\n",
       " 26: 'work',\n",
       " 27: 'girl',\n",
       " 28: 'weekend',\n",
       " 29: 'healthy',\n",
       " 30: 'need',\n",
       " 31: 'got',\n",
       " 32: 'week',\n",
       " 33: 'fun',\n",
       " 34: 'family',\n",
       " 35: 'summer',\n",
       " 36: 'way',\n",
       " 37: 'friday',\n",
       " 38: 'bull',\n",
       " 39: 'year',\n",
       " 40: 'best',\n",
       " 41: 'beautiful',\n",
       " 42: 'morning',\n",
       " 43: 'first',\n",
       " 44: 'thing',\n",
       " 45: 'great',\n",
       " 46: 'really',\n",
       " 47: 'music',\n",
       " 48: 'wait',\n",
       " 49: 'world',\n",
       " 50: 'going',\n",
       " 51: 'ur',\n",
       " 52: 'dad',\n",
       " 53: 'know',\n",
       " 54: 'feel',\n",
       " 55: 'sad',\n",
       " 56: 'tomorrow',\n",
       " 57: 'back',\n",
       " 58: 'fathersday',\n",
       " 59: 'home',\n",
       " 60: 'look',\n",
       " 61: 'cute',\n",
       " 62: 'happiness',\n",
       " 63: 'night',\n",
       " 64: 'come',\n",
       " 65: 'trump',\n",
       " 66: 'think',\n",
       " 67: 'orlando',\n",
       " 68: 'sunday',\n",
       " 69: 'never',\n",
       " 70: 'affirmation',\n",
       " 71: 'right',\n",
       " 72: 'much',\n",
       " 73: 'follow',\n",
       " 74: 'blog',\n",
       " 75: 'model',\n",
       " 76: 'say',\n",
       " 77: 'live',\n",
       " 78: 'last',\n",
       " 79: 'always',\n",
       " 80: 'next',\n",
       " 81: 'show',\n",
       " 82: 'even',\n",
       " 83: 'finally',\n",
       " 84: 'find',\n",
       " 85: 'amazing',\n",
       " 86: 'still',\n",
       " 87: 'gt',\n",
       " 88: 'well',\n",
       " 89: 'selfie',\n",
       " 90: 'let',\n",
       " 91: 'feeling',\n",
       " 92: 'gold',\n",
       " 93: 'altwaystoheal',\n",
       " 94: 'dog',\n",
       " 95: 'silver',\n",
       " 96: 'tonight',\n",
       " 97: 'thanks',\n",
       " 98: 'little',\n",
       " 99: 'guy',\n",
       " 100: 'black',\n",
       " 101: 'thank',\n",
       " 102: 'everyone',\n",
       " 103: 'ready',\n",
       " 104: 'game',\n",
       " 105: 'quote',\n",
       " 106: 'pay',\n",
       " 107: 'na',\n",
       " 108: 'old',\n",
       " 109: 'woman',\n",
       " 110: 'would',\n",
       " 111: 'man',\n",
       " 112: 'via',\n",
       " 113: 'free',\n",
       " 114: 'baby',\n",
       " 115: 'food',\n",
       " 116: 'hope',\n",
       " 117: 'kid',\n",
       " 118: 'peace',\n",
       " 119: 'another',\n",
       " 120: 'city',\n",
       " 121: 'many',\n",
       " 122: 'hate',\n",
       " 123: 'watch',\n",
       " 124: 'sun',\n",
       " 125: 'stop',\n",
       " 126: 'ever',\n",
       " 127: 'getting',\n",
       " 128: 'enjoy',\n",
       " 129: 'god',\n",
       " 130: 'forex',\n",
       " 131: 'looking',\n",
       " 132: 'keep',\n",
       " 133: 'news',\n",
       " 134: 'blessed',\n",
       " 135: 'whatever',\n",
       " 136: 'white',\n",
       " 137: 'video',\n",
       " 138: 'place',\n",
       " 139: 'tweet',\n",
       " 140: 'th',\n",
       " 141: 'sta',\n",
       " 142: 'made',\n",
       " 143: 'help',\n",
       " 144: 'hour',\n",
       " 145: 'saturday',\n",
       " 146: 'wish',\n",
       " 147: 'instagood',\n",
       " 148: 'child',\n",
       " 149: 'holiday',\n",
       " 150: 'bear',\n",
       " 151: 'someone',\n",
       " 152: 'school',\n",
       " 153: 'climb',\n",
       " 154: 'word',\n",
       " 155: 'funny',\n",
       " 156: 'thought',\n",
       " 157: 'lol',\n",
       " 158: 'might',\n",
       " 159: 'coming',\n",
       " 160: 'every',\n",
       " 161: 'n',\n",
       " 162: 'change',\n",
       " 163: 'nice',\n",
       " 164: 'believe',\n",
       " 165: 'excited',\n",
       " 166: 'wedding',\n",
       " 167: 'boy',\n",
       " 168: 'may',\n",
       " 169: 'angry',\n",
       " 170: 'team',\n",
       " 171: 'euro',\n",
       " 172: 'beach',\n",
       " 173: 'nothing',\n",
       " 174: 'big',\n",
       " 175: 'healing',\n",
       " 176: 'w',\n",
       " 177: 'lt',\n",
       " 178: 'polar',\n",
       " 179: 'better',\n",
       " 180: 'play',\n",
       " 181: 'found',\n",
       " 182: 'dominate',\n",
       " 183: 'direct',\n",
       " 184: 'lot',\n",
       " 185: 'cool',\n",
       " 186: 'yes',\n",
       " 187: 'b',\n",
       " 188: 'long',\n",
       " 189: 'around',\n",
       " 190: 'r',\n",
       " 191: 'attack',\n",
       " 192: 'month',\n",
       " 193: 'end',\n",
       " 194: 'photo',\n",
       " 195: 'face',\n",
       " 196: 'moment',\n",
       " 197: 'travel',\n",
       " 198: 'cat',\n",
       " 199: 'without',\n",
       " 200: 'please',\n",
       " 201: 'monday',\n",
       " 202: 'left',\n",
       " 203: 'grateful',\n",
       " 204: 'america',\n",
       " 205: 'hea',\n",
       " 206: 'fan',\n",
       " 207: 'done',\n",
       " 208: 'june',\n",
       " 209: 'motivation',\n",
       " 210: 'dream',\n",
       " 211: 'lost',\n",
       " 212: 'book',\n",
       " 213: 'soon',\n",
       " 214: 'waiting',\n",
       " 215: 'check',\n",
       " 216: 'followme',\n",
       " 217: 'awesome',\n",
       " 218: 'watching',\n",
       " 219: 'give',\n",
       " 220: 'bad',\n",
       " 221: 'tear',\n",
       " 222: 'photooftheday',\n",
       " 223: 'hot',\n",
       " 224: 'true',\n",
       " 225: 'miss',\n",
       " 226: 'something',\n",
       " 227: 'away',\n",
       " 228: 'two',\n",
       " 229: 'proud',\n",
       " 230: 'shooting',\n",
       " 231: 'fashion',\n",
       " 232: 'oh',\n",
       " 233: 'racist',\n",
       " 234: 'yeah',\n",
       " 235: 'sleep',\n",
       " 236: 'job',\n",
       " 237: 'bing',\n",
       " 238: 'top',\n",
       " 239: 'beauty',\n",
       " 240: 'stay',\n",
       " 241: 'person',\n",
       " 242: 'real',\n",
       " 243: 'bong',\n",
       " 244: 'strong',\n",
       " 245: 'sex',\n",
       " 246: 'hard',\n",
       " 247: 'lovely',\n",
       " 248: 'joy',\n",
       " 249: 'x',\n",
       " 250: 'season',\n",
       " 251: 'playing',\n",
       " 252: 'forward',\n",
       " 253: 'everything',\n",
       " 254: 'young',\n",
       " 255: 'money',\n",
       " 256: 'gun',\n",
       " 257: 'body',\n",
       " 258: 'e',\n",
       " 259: 'f',\n",
       " 260: 'im',\n",
       " 261: 'p',\n",
       " 262: 'racing',\n",
       " 263: 'rip',\n",
       " 264: 'libtard',\n",
       " 265: 'hair',\n",
       " 266: 'wow',\n",
       " 267: 'win',\n",
       " 268: 'gon',\n",
       " 269: 'could',\n",
       " 270: 'full',\n",
       " 271: 'twitter',\n",
       " 272: 'sexy',\n",
       " 273: 'movie',\n",
       " 274: 'call',\n",
       " 275: 'l',\n",
       " 276: 'gay',\n",
       " 277: 'listen',\n",
       " 278: 'obama',\n",
       " 279: 'leave',\n",
       " 280: 'yet',\n",
       " 281: 'london',\n",
       " 282: 'couple',\n",
       " 283: 'porn',\n",
       " 284: 'song',\n",
       " 285: 'success',\n",
       " 286: 'post',\n",
       " 287: 'tbt',\n",
       " 288: 'inspiration',\n",
       " 289: 'house',\n",
       " 290: 'dance',\n",
       " 291: 'country',\n",
       " 292: 'mind',\n",
       " 293: 'story',\n",
       " 294: 'making',\n",
       " 295: 'buy',\n",
       " 296: 'fitness',\n",
       " 297: 'perfect',\n",
       " 298: 'buffalo',\n",
       " 299: 'health',\n",
       " 300: 'mindset',\n",
       " 301: 'retweet',\n",
       " 302: 'cry',\n",
       " 303: 'pa',\n",
       " 304: 'read',\n",
       " 305: 'loved',\n",
       " 306: 'truth',\n",
       " 307: 'said',\n",
       " 308: 'since',\n",
       " 309: 'gorilla',\n",
       " 310: 'already',\n",
       " 311: 'v',\n",
       " 312: 'depression',\n",
       " 313: 'mom',\n",
       " 314: 'omg',\n",
       " 315: 'flower',\n",
       " 316: 'poetry',\n",
       " 317: 'working',\n",
       " 318: 'ticket',\n",
       " 319: 'politics',\n",
       " 320: 'men',\n",
       " 321: 'run',\n",
       " 322: 'mood',\n",
       " 323: 'mean',\n",
       " 324: 'shit',\n",
       " 325: 'head',\n",
       " 326: 'pretty',\n",
       " 327: 'liberal',\n",
       " 328: 'put',\n",
       " 329: 'living',\n",
       " 330: 'thursday',\n",
       " 331: 'shop',\n",
       " 332: 'nude',\n",
       " 333: 'enough',\n",
       " 334: 'try',\n",
       " 335: 'fuck',\n",
       " 336: 'st',\n",
       " 337: 'american',\n",
       " 338: 'use',\n",
       " 339: 'meet',\n",
       " 340: 'pm',\n",
       " 341: 'super',\n",
       " 342: 'business',\n",
       " 343: 'open',\n",
       " 344: 'h',\n",
       " 345: 'share',\n",
       " 346: 'fact',\n",
       " 347: 'alone',\n",
       " 348: 'rest',\n",
       " 349: 'conference',\n",
       " 350: 'tell',\n",
       " 351: 'relax',\n",
       " 352: 'cold',\n",
       " 353: 'environment',\n",
       " 354: 'gone',\n",
       " 355: 'picture',\n",
       " 356: 'others',\n",
       " 357: 'car',\n",
       " 358: 'event',\n",
       " 359: 'son',\n",
       " 360: 'lifestyle',\n",
       " 361: 'bird',\n",
       " 362: 'pic',\n",
       " 363: 'trip',\n",
       " 364: 'crazy',\n",
       " 365: 'trying',\n",
       " 366: 'care',\n",
       " 367: 'single',\n",
       " 368: 'coffee',\n",
       " 369: 'race',\n",
       " 370: 'reason',\n",
       " 371: 'simulator',\n",
       " 372: 'adapt',\n",
       " 373: 'gift',\n",
       " 374: 'also',\n",
       " 375: 'blue',\n",
       " 376: 'medium',\n",
       " 377: 'tired',\n",
       " 378: 'side',\n",
       " 379: 'ppl',\n",
       " 380: 'laugh',\n",
       " 381: 'le',\n",
       " 382: 'hey',\n",
       " 383: 'celebrate',\n",
       " 384: 'dead',\n",
       " 385: 'hear',\n",
       " 386: 'victim',\n",
       " 387: 'wednesday',\n",
       " 388: 'wonderful',\n",
       " 389: 'sweet',\n",
       " 390: 'must',\n",
       " 391: 'till',\n",
       " 392: 'k',\n",
       " 393: 'yay',\n",
       " 394: 'tag',\n",
       " 395: 'seeing',\n",
       " 396: 'customer',\n",
       " 397: 'state',\n",
       " 398: 'join',\n",
       " 399: 'came',\n",
       " 400: 'daddy',\n",
       " 401: 'tgif',\n",
       " 402: 'together',\n",
       " 403: 'simulation',\n",
       " 404: 'sunshine',\n",
       " 405: 'else',\n",
       " 406: 'forever',\n",
       " 407: 'daughter',\n",
       " 408: 'delete',\n",
       " 409: 'update',\n",
       " 410: 'order',\n",
       " 411: 'gbp',\n",
       " 412: 'talk',\n",
       " 413: 'empty',\n",
       " 414: 'anything',\n",
       " 415: 'animal',\n",
       " 416: 'culture',\n",
       " 417: 'gym',\n",
       " 418: 'far',\n",
       " 419: 'matter',\n",
       " 420: 'hand',\n",
       " 421: 'remember',\n",
       " 422: 'actually',\n",
       " 423: 'prayer',\n",
       " 424: 'yr',\n",
       " 425: 'goal',\n",
       " 426: 'high',\n",
       " 427: 'bed',\n",
       " 428: 'c',\n",
       " 429: 'lead',\n",
       " 430: 'act',\n",
       " 431: 'instagram',\n",
       " 432: 'minute',\n",
       " 433: 'useful',\n",
       " 434: 'aww',\n",
       " 435: 'lgbt',\n",
       " 436: 'vacation',\n",
       " 437: 'hu',\n",
       " 438: 'anymore',\n",
       " 439: 'photography',\n",
       " 440: 'kind',\n",
       " 441: 'sorry',\n",
       " 442: 'drink',\n",
       " 443: 'power',\n",
       " 444: 'color',\n",
       " 445: 'hit',\n",
       " 446: 'latest',\n",
       " 447: 'yesterday',\n",
       " 448: 'sick',\n",
       " 449: 'almost',\n",
       " 450: 'follower',\n",
       " 451: 'tuesday',\n",
       " 452: 'nature',\n",
       " 453: 'eye',\n",
       " 454: 'went',\n",
       " 455: 'app',\n",
       " 456: 'miami',\n",
       " 457: 'prayfororlando',\n",
       " 458: 'daily',\n",
       " 459: 'comment',\n",
       " 460: 'hello',\n",
       " 461: 'allahsoil',\n",
       " 462: 'loving',\n",
       " 463: 'set',\n",
       " 464: 'goodmorning',\n",
       " 465: 'wrong',\n",
       " 466: 'usa',\n",
       " 467: 'impoant',\n",
       " 468: 'shopping',\n",
       " 469: 'deletetweets',\n",
       " 470: 'lady',\n",
       " 471: 'hardcore',\n",
       " 472: 'complete',\n",
       " 473: 'parent',\n",
       " 474: 'death',\n",
       " 475: 'lunch',\n",
       " 476: 'reading',\n",
       " 477: 'uk',\n",
       " 478: 'social',\n",
       " 479: 'green',\n",
       " 480: 'rain',\n",
       " 481: 'evening',\n",
       " 482: 'usd',\n",
       " 483: 'flag',\n",
       " 484: 'happened',\n",
       " 485: 'visit',\n",
       " 486: 'history',\n",
       " 487: 'saw',\n",
       " 488: 'early',\n",
       " 489: 'nervous',\n",
       " 490: 'style',\n",
       " 491: 'park',\n",
       " 492: 'break',\n",
       " 493: 'as',\n",
       " 494: 'special',\n",
       " 495: 'muslim',\n",
       " 496: 'football',\n",
       " 497: 'ok',\n",
       " 498: 'running',\n",
       " 499: 'anxiety',\n",
       " 500: 'view',\n",
       " 501: 'picoftheday',\n",
       " 502: 'yo',\n",
       " 503: 'tv',\n",
       " 504: 'soul',\n",
       " 505: 'understand',\n",
       " 506: 'anyone',\n",
       " 507: 'student',\n",
       " 508: 'memory',\n",
       " 509: 'episode',\n",
       " 510: 'depressed',\n",
       " 511: 'walk',\n",
       " 512: 'suppo',\n",
       " 513: 'boyfriend',\n",
       " 514: 'lucky',\n",
       " 515: 'damn',\n",
       " 516: 'ago',\n",
       " 517: 'sure',\n",
       " 518: 'sometimes',\n",
       " 519: 'development',\n",
       " 520: 'point',\n",
       " 521: 'sister',\n",
       " 522: 'able',\n",
       " 523: 'final',\n",
       " 524: 'meeting',\n",
       " 525: 'date',\n",
       " 526: 'safe',\n",
       " 527: 'service',\n",
       " 528: 'sunny',\n",
       " 529: 'favorite',\n",
       " 530: 'queen',\n",
       " 531: 'xxx',\n",
       " 532: 'kill',\n",
       " 533: 'stas',\n",
       " 534: 'sale',\n",
       " 535: 'save',\n",
       " 536: 'ht',\n",
       " 537: 'film',\n",
       " 538: 'self',\n",
       " 539: 'smiling',\n",
       " 540: 'everyday',\n",
       " 541: 'target',\n",
       " 542: 'racism',\n",
       " 543: 'problem',\n",
       " 544: 'freedom',\n",
       " 545: 'cause',\n",
       " 546: 'star',\n",
       " 547: 'brexit',\n",
       " 548: 'nyc',\n",
       " 549: 'dont',\n",
       " 550: 'conce',\n",
       " 551: 'bit',\n",
       " 552: 'learn',\n",
       " 553: 'mother',\n",
       " 554: 'wishing',\n",
       " 555: 'oitnb',\n",
       " 556: 'anniversary',\n",
       " 557: 'later',\n",
       " 558: 'tragedy',\n",
       " 559: 'finished',\n",
       " 560: 'whole',\n",
       " 561: 'g',\n",
       " 562: 'vine',\n",
       " 563: 'seen',\n",
       " 564: 'pray',\n",
       " 565: 'youtube',\n",
       " 566: 'snapchat',\n",
       " 567: 'voice',\n",
       " 568: 'begin',\n",
       " 569: 'human',\n",
       " 570: 'president',\n",
       " 571: 'future',\n",
       " 572: 'fucking',\n",
       " 573: 'smh',\n",
       " 574: 'bitch',\n",
       " 575: 'florida',\n",
       " 576: 'garden',\n",
       " 577: 'arrived',\n",
       " 578: 'guess',\n",
       " 579: 'booked',\n",
       " 580: 'sjw',\n",
       " 581: 'police',\n",
       " 582: 'wife',\n",
       " 583: 'phone',\n",
       " 584: 'talking',\n",
       " 585: 'disney',\n",
       " 586: 'training',\n",
       " 587: 'though',\n",
       " 588: 'club',\n",
       " 589: 'simple',\n",
       " 590: 'become',\n",
       " 591: 'education',\n",
       " 592: 'thinking',\n",
       " 593: 'sea',\n",
       " 594: 'cant',\n",
       " 595: 'bless',\n",
       " 596: 'lover',\n",
       " 597: 'heard',\n",
       " 598: 'group',\n",
       " 599: 'name',\n",
       " 600: 'late',\n",
       " 601: 'experience',\n",
       " 602: 'half',\n",
       " 603: 'wake',\n",
       " 604: 'broken',\n",
       " 605: 'present',\n",
       " 606: 'killed',\n",
       " 607: 'shot',\n",
       " 608: 'called',\n",
       " 609: 'survive',\n",
       " 610: 'brother',\n",
       " 611: 'yoga',\n",
       " 612: 'red',\n",
       " 613: 'national',\n",
       " 614: 'friendship',\n",
       " 615: 'welcome',\n",
       " 616: 'control',\n",
       " 617: 'saying',\n",
       " 618: 'ta',\n",
       " 619: 'light',\n",
       " 620: 'despite',\n",
       " 621: 'maybe',\n",
       " 622: 'organization',\n",
       " 623: 'wan',\n",
       " 624: 'line',\n",
       " 625: 'reach',\n",
       " 626: 'joke',\n",
       " 627: 'staing',\n",
       " 628: 'nd',\n",
       " 629: 'step',\n",
       " 630: 'mountain',\n",
       " 631: 'htt',\n",
       " 632: 'bring',\n",
       " 633: 'vote',\n",
       " 634: 'disappointed',\n",
       " 635: 'cantwait',\n",
       " 636: 'design',\n",
       " 637: 'stuff',\n",
       " 638: 'teen',\n",
       " 639: 'account',\n",
       " 640: 'client',\n",
       " 641: 'fresh',\n",
       " 642: 'afternoon',\n",
       " 643: 'list',\n",
       " 644: 'respect',\n",
       " 645: 'eat',\n",
       " 646: 'source',\n",
       " 647: 'cheer',\n",
       " 648: 'sign',\n",
       " 649: 'lighttherapy',\n",
       " 650: 'ramadan',\n",
       " 651: 'truly',\n",
       " 652: 'beer',\n",
       " 653: 'wtf',\n",
       " 654: 'rock',\n",
       " 655: 'choose',\n",
       " 656: 'july',\n",
       " 657: 'worst',\n",
       " 658: 'slut',\n",
       " 659: 'dinner',\n",
       " 660: 'cake',\n",
       " 661: 'dear',\n",
       " 662: 'mad',\n",
       " 663: 'seems',\n",
       " 664: 'easy',\n",
       " 665: 'plan',\n",
       " 666: 'england',\n",
       " 667: 'adventure',\n",
       " 668: 'nasty',\n",
       " 669: 'husband',\n",
       " 670: 'lie',\n",
       " 671: 'la',\n",
       " 672: 'hill',\n",
       " 673: 'hillary',\n",
       " 674: 'die',\n",
       " 675: 'relationship',\n",
       " 676: 'used',\n",
       " 677: 'fit',\n",
       " 678: 'along',\n",
       " 679: 'close',\n",
       " 680: 'mine',\n",
       " 681: 'makeup',\n",
       " 682: 'japan',\n",
       " 683: 'choice',\n",
       " 684: 'nigga',\n",
       " 685: 'oil',\n",
       " 686: 'wine',\n",
       " 687: 'heal',\n",
       " 688: 'happening',\n",
       " 689: 'idea',\n",
       " 690: 'issue',\n",
       " 691: 'gop',\n",
       " 692: 'fear',\n",
       " 693: 'instalike',\n",
       " 694: 'turn',\n",
       " 695: 'class',\n",
       " 696: 'pathetic',\n",
       " 697: 'shy',\n",
       " 698: 'send',\n",
       " 699: 'breakfast',\n",
       " 700: 'least',\n",
       " 701: 'leadership',\n",
       " 702: 'enjoying',\n",
       " 703: 'forget',\n",
       " 704: 'room',\n",
       " 705: 'move',\n",
       " 706: 'ride',\n",
       " 707: 'happen',\n",
       " 708: 'street',\n",
       " 709: 'thankyou',\n",
       " 710: 'fly',\n",
       " 711: 'reached',\n",
       " 712: 'vibe',\n",
       " 713: 'naughty',\n",
       " 714: 'horny',\n",
       " 715: 'wet',\n",
       " 716: 'puppy',\n",
       " 717: 'blogger',\n",
       " 718: 'page',\n",
       " 719: 'sky',\n",
       " 720: 'chill',\n",
       " 721: 'stomping',\n",
       " 722: 'task',\n",
       " 723: 'ask',\n",
       " 724: 'water',\n",
       " 725: 'missing',\n",
       " 726: 'ripchristina',\n",
       " 727: 'celebration',\n",
       " 728: 'ahead',\n",
       " 729: 'treat',\n",
       " 730: 'wanted',\n",
       " 731: 'bday',\n",
       " 732: 'india',\n",
       " 733: 'actor',\n",
       " 734: 'course',\n",
       " 735: 'sound',\n",
       " 736: 'message',\n",
       " 737: 'vicinity',\n",
       " 738: 'finding',\n",
       " 739: 'kinky',\n",
       " 740: 'pain',\n",
       " 741: 'card',\n",
       " 742: 'blonde',\n",
       " 743: 'moving',\n",
       " 744: 'office',\n",
       " 745: 'energy',\n",
       " 746: 'past',\n",
       " 747: 'spos',\n",
       " 748: 'fall',\n",
       " 749: 'taking',\n",
       " 750: 'suppoers',\n",
       " 751: 'different',\n",
       " 752: 'series',\n",
       " 753: 'tip',\n",
       " 754: 'mr',\n",
       " 755: 'france',\n",
       " 756: 'award',\n",
       " 757: 'calm',\n",
       " 758: 'question',\n",
       " 759: 'tragic',\n",
       " 760: 'war',\n",
       " 761: 'co',\n",
       " 762: 'hell',\n",
       " 763: 'staed',\n",
       " 764: 'chase',\n",
       " 765: 'pride',\n",
       " 766: 'orlandoshooting',\n",
       " 767: 'law',\n",
       " 768: 'blur',\n",
       " 769: 'rather',\n",
       " 770: 'web',\n",
       " 771: 'pop',\n",
       " 772: 'ending',\n",
       " 773: 'bought',\n",
       " 774: 'walking',\n",
       " 775: 'pink',\n",
       " 776: 'bag',\n",
       " 777: 'mass',\n",
       " 778: 'bike',\n",
       " 779: 'community',\n",
       " 780: 'behind',\n",
       " 781: 'exciting',\n",
       " 782: 'leader',\n",
       " 783: 'album',\n",
       " 784: 'million',\n",
       " 785: 'lonely',\n",
       " 786: 'glad',\n",
       " 787: 'nbafinals',\n",
       " 788: 'asian',\n",
       " 789: 'three',\n",
       " 790: 'sunset',\n",
       " 791: 'violence',\n",
       " 792: 'loss',\n",
       " 793: 'took',\n",
       " 794: 'listening',\n",
       " 795: 'emotion',\n",
       " 796: 'seriously',\n",
       " 797: 'action',\n",
       " 798: 'leaving',\n",
       " 799: 'key',\n",
       " 800: 'stupid',\n",
       " 801: 'reality',\n",
       " 802: 'dj',\n",
       " 803: 'gorgeous',\n",
       " 804: 'available',\n",
       " 805: 'user',\n",
       " 806: 'literally',\n",
       " 807: 'age',\n",
       " 808: 'flight',\n",
       " 809: 'lawofattraction',\n",
       " 810: 'using',\n",
       " 811: 'political',\n",
       " 812: 'secret',\n",
       " 813: 'workout',\n",
       " 814: 'festival',\n",
       " 815: 'grow',\n",
       " 816: 'hero',\n",
       " 817: 'xx',\n",
       " 818: 'agree',\n",
       " 819: 'hr',\n",
       " 820: 'fridayfeeling',\n",
       " 821: 'hi',\n",
       " 822: 'instead',\n",
       " 823: 'da',\n",
       " 824: 'woh',\n",
       " 825: 'church',\n",
       " 826: 'project',\n",
       " 827: 'instamood',\n",
       " 828: 'inshot',\n",
       " 829: 'road',\n",
       " 830: 'given',\n",
       " 831: 'shoe',\n",
       " 832: 'lose',\n",
       " 833: 'missed',\n",
       " 834: 'died',\n",
       " 835: 'chance',\n",
       " 836: 'gave',\n",
       " 837: 'company',\n",
       " 838: 'donald',\n",
       " 839: 'vegan',\n",
       " 840: 'faith',\n",
       " 841: 'release',\n",
       " 842: 'countdown',\n",
       " 843: 'writing',\n",
       " 844: 'needed',\n",
       " 845: 'officially',\n",
       " 846: 'fantastic',\n",
       " 847: 'spain',\n",
       " 848: 'told',\n",
       " 849: 'internet',\n",
       " 850: 'heabroken',\n",
       " 851: 'female',\n",
       " 852: 'college',\n",
       " 853: 'camp',\n",
       " 854: 'confused',\n",
       " 855: 'probably',\n",
       " 856: 'low',\n",
       " 857: 'beat',\n",
       " 858: 'official',\n",
       " 859: 'hold',\n",
       " 860: 'shame',\n",
       " 861: 'member',\n",
       " 862: 'republican',\n",
       " 863: 'diet',\n",
       " 864: 'bc',\n",
       " 865: 'facebook',\n",
       " 866: 'happier',\n",
       " 867: 'local',\n",
       " 868: 'surprise',\n",
       " 869: 'sho',\n",
       " 870: 'naked',\n",
       " 871: 'nba',\n",
       " 872: 'york',\n",
       " 873: 'christmas',\n",
       " 874: 'snapshot',\n",
       " 875: 'town',\n",
       " 876: 'min',\n",
       " 877: 'store',\n",
       " 878: 'review',\n",
       " 879: 'launch',\n",
       " 880: 'tech',\n",
       " 881: 'spend',\n",
       " 882: 'terrorist',\n",
       " 883: 'giving',\n",
       " 884: 'newyork',\n",
       " 885: 'udtapunjab',\n",
       " 886: 'second',\n",
       " 887: 'huge',\n",
       " 888: 'nobody',\n",
       " 889: 'pussy',\n",
       " 890: 'apple',\n",
       " 891: 'folk',\n",
       " 892: 'content',\n",
       " 893: 'tour',\n",
       " 894: 'add',\n",
       " 895: 'hungry',\n",
       " 896: 'congratulation',\n",
       " 897: 'campaign',\n",
       " 898: 'terrorism',\n",
       " 899: 'pre',\n",
       " 900: 'luck',\n",
       " 901: 'decided',\n",
       " 902: 'poor',\n",
       " 903: 'space',\n",
       " 904: 'ice',\n",
       " 905: 'fight',\n",
       " 906: 'website',\n",
       " 907: 'nofilter',\n",
       " 908: 'busy',\n",
       " 909: 'king',\n",
       " 910: 'finger',\n",
       " 911: 'stage',\n",
       " 912: 'trust',\n",
       " 913: 'sense',\n",
       " 914: 'kitty',\n",
       " 915: 'poem',\n",
       " 916: 'rooster',\n",
       " 917: 'vast',\n",
       " 918: 'instadaily',\n",
       " 919: 'society',\n",
       " 920: 'dark',\n",
       " 921: 'weather',\n",
       " 922: 'glass',\n",
       " 923: 'result',\n",
       " 924: 'speak',\n",
       " 925: 'anti',\n",
       " 926: 'pool',\n",
       " 927: 'hatred',\n",
       " 928: 'dancing',\n",
       " 929: 'everybody',\n",
       " 930: 'meme',\n",
       " 931: 'answer',\n",
       " 932: 'christian',\n",
       " 933: 'wakeup',\n",
       " 934: 'goodvibes',\n",
       " 935: 'hug',\n",
       " 936: 'alive',\n",
       " 937: 'dude',\n",
       " 938: 'product',\n",
       " 939: 'land',\n",
       " 940: 'dress',\n",
       " 941: 'tampa',\n",
       " 942: 'vega',\n",
       " 943: 'favourite',\n",
       " 944: 'okay',\n",
       " 945: 'congrats',\n",
       " 946: 'wonder',\n",
       " 947: 'expanse',\n",
       " 948: 'link',\n",
       " 949: 'fo',\n",
       " 950: 'exam',\n",
       " 951: 'staff',\n",
       " 952: 'punjab',\n",
       " 953: 'eah',\n",
       " 954: 'small',\n",
       " 955: 'yummy',\n",
       " 956: 'stand',\n",
       " 957: 'positivity',\n",
       " 958: 'eur',\n",
       " 959: 'deal',\n",
       " 960: 'pizza',\n",
       " 961: 'born',\n",
       " 962: 'match',\n",
       " 963: 'entire',\n",
       " 964: 'market',\n",
       " 965: 'due',\n",
       " 966: 'haha',\n",
       " 967: 'english',\n",
       " 968: 'relaxing',\n",
       " 969: 'pig',\n",
       " 970: 'marriage',\n",
       " 971: 'deep',\n",
       " 972: 'pet',\n",
       " 973: 'cut',\n",
       " 974: 'rose',\n",
       " 975: 'bride',\n",
       " 976: 'brand',\n",
       " 977: 'met',\n",
       " 978: 'train',\n",
       " 979: 'angel',\n",
       " 980: 'trending',\n",
       " 981: 'dory',\n",
       " 982: 'university',\n",
       " 983: 'session',\n",
       " 984: 'outside',\n",
       " 985: 'ball',\n",
       " 986: 'finish',\n",
       " 987: 'michael',\n",
       " 988: 'scared',\n",
       " 989: 'exactly',\n",
       " 990: 'double',\n",
       " 991: 'planning',\n",
       " 992: 'number',\n",
       " 993: 'paris',\n",
       " 994: 'calling',\n",
       " 995: 'successful',\n",
       " 996: 'graduation',\n",
       " 997: 'winner',\n",
       " 998: 'tried',\n",
       " 999: 'absolutely',\n",
       " 1000: 'front',\n",
       " ...}"
      ]
     },
     "execution_count": 32,
     "metadata": {},
     "output_type": "execute_result"
    }
   ],
   "source": [
    "vocabulary = tokenizer.index_word\n",
    "vocabulary"
   ]
  },
  {
   "cell_type": "code",
   "execution_count": 33,
   "metadata": {
    "colab": {
     "base_uri": "https://localhost:8080/"
    },
    "executionInfo": {
     "elapsed": 455,
     "status": "ok",
     "timestamp": 1628750444930,
     "user": {
      "displayName": "Abhishek Mishra",
      "photoUrl": "",
      "userId": "08628693600180822090"
     },
     "user_tz": -330
    },
    "id": "fjjipdDHFytJ",
    "outputId": "571817aa-13a1-4cff-8805-bc8c1b0ed341"
   },
   "outputs": [
    {
     "data": {
      "text/plain": [
       "28153"
      ]
     },
     "execution_count": 33,
     "metadata": {},
     "output_type": "execute_result"
    }
   ],
   "source": [
    "vocab_len = len(vocabulary)\n",
    "vocab_len"
   ]
  },
  {
   "cell_type": "code",
   "execution_count": 34,
   "metadata": {
    "executionInfo": {
     "elapsed": 1112,
     "status": "ok",
     "timestamp": 1628750463768,
     "user": {
      "displayName": "Abhishek Mishra",
      "photoUrl": "",
      "userId": "08628693600180822090"
     },
     "user_tz": -330
    },
    "id": "F3_24mxfF3Ua"
   },
   "outputs": [],
   "source": [
    "train_sequence = tokenizer.texts_to_sequences(X_train)"
   ]
  },
  {
   "cell_type": "code",
   "execution_count": 35,
   "metadata": {
    "executionInfo": {
     "elapsed": 532,
     "status": "ok",
     "timestamp": 1628750480007,
     "user": {
      "displayName": "Abhishek Mishra",
      "photoUrl": "",
      "userId": "08628693600180822090"
     },
     "user_tz": -330
    },
    "id": "HTyD_il8F7w5"
   },
   "outputs": [],
   "source": [
    "doc_len = []\n",
    "for doc in train_sequence:\n",
    "    doc_len.append(len(doc))"
   ]
  },
  {
   "cell_type": "code",
   "execution_count": 36,
   "metadata": {
    "colab": {
     "base_uri": "https://localhost:8080/"
    },
    "executionInfo": {
     "elapsed": 428,
     "status": "ok",
     "timestamp": 1628750491373,
     "user": {
      "displayName": "Abhishek Mishra",
      "photoUrl": "",
      "userId": "08628693600180822090"
     },
     "user_tz": -330
    },
    "id": "fkEZUOE1F_3Z",
    "outputId": "9b67a255-d694-4b93-996f-d0c9ac8ffeec"
   },
   "outputs": [
    {
     "data": {
      "text/plain": [
       "37"
      ]
     },
     "execution_count": 36,
     "metadata": {},
     "output_type": "execute_result"
    }
   ],
   "source": [
    "max(doc_len)"
   ]
  },
  {
   "cell_type": "code",
   "execution_count": 37,
   "metadata": {
    "colab": {
     "base_uri": "https://localhost:8080/"
    },
    "executionInfo": {
     "elapsed": 553,
     "status": "ok",
     "timestamp": 1628750524770,
     "user": {
      "displayName": "Abhishek Mishra",
      "photoUrl": "",
      "userId": "08628693600180822090"
     },
     "user_tz": -330
    },
    "id": "DPiUJDY7GCpw",
    "outputId": "acf88fd3-b657-404e-df3d-b763491e97e8"
   },
   "outputs": [
    {
     "data": {
      "text/plain": [
       "21.0"
      ]
     },
     "execution_count": 37,
     "metadata": {},
     "output_type": "execute_result"
    }
   ],
   "source": [
    "np.quantile(doc_len, 0.9999)"
   ]
  },
  {
   "cell_type": "code",
   "execution_count": 38,
   "metadata": {
    "executionInfo": {
     "elapsed": 420,
     "status": "ok",
     "timestamp": 1628750539608,
     "user": {
      "displayName": "Abhishek Mishra",
      "photoUrl": "",
      "userId": "08628693600180822090"
     },
     "user_tz": -330
    },
    "id": "Ssw_v5KTGF_n"
   },
   "outputs": [],
   "source": [
    "max_len = 21"
   ]
  },
  {
   "cell_type": "code",
   "execution_count": 39,
   "metadata": {
    "executionInfo": {
     "elapsed": 378,
     "status": "ok",
     "timestamp": 1628750553275,
     "user": {
      "displayName": "Abhishek Mishra",
      "photoUrl": "",
      "userId": "08628693600180822090"
     },
     "user_tz": -330
    },
    "id": "O1NGP523GOcZ"
   },
   "outputs": [],
   "source": [
    "train_sequence_matrix = sequence.pad_sequences(train_sequence, maxlen= max_len)"
   ]
  },
  {
   "cell_type": "code",
   "execution_count": 40,
   "metadata": {
    "executionInfo": {
     "elapsed": 399,
     "status": "ok",
     "timestamp": 1628750569885,
     "user": {
      "displayName": "Abhishek Mishra",
      "photoUrl": "",
      "userId": "08628693600180822090"
     },
     "user_tz": -330
    },
    "id": "fRDzHTJqGRyy"
   },
   "outputs": [],
   "source": [
    "# testing\n",
    "test_sequence = tokenizer.texts_to_sequences(X_test)\n",
    "test_sequence_matrix = sequence.pad_sequences(test_sequence, maxlen= max_len)"
   ]
  },
  {
   "cell_type": "code",
   "execution_count": 41,
   "metadata": {
    "executionInfo": {
     "elapsed": 1133,
     "status": "ok",
     "timestamp": 1628750585394,
     "user": {
      "displayName": "Abhishek Mishra",
      "photoUrl": "",
      "userId": "08628693600180822090"
     },
     "user_tz": -330
    },
    "id": "iV4N2ao6GV1u"
   },
   "outputs": [],
   "source": [
    "# model\n",
    "\n",
    "model = Sequential()\n",
    "model.add(Embedding(input_dim=vocab_len+1,output_dim=100,input_length=max_len,mask_zero=True))\n",
    "model.add(Flatten())\n",
    "model.add(Dense(64,activation=\"tanh\"))\n",
    "model.add(Dense(64,activation=\"tanh\"))\n",
    "model.add(Dense(1,activation=\"sigmoid\"))"
   ]
  },
  {
   "cell_type": "code",
   "execution_count": 42,
   "metadata": {
    "executionInfo": {
     "elapsed": 504,
     "status": "ok",
     "timestamp": 1628750598270,
     "user": {
      "displayName": "Abhishek Mishra",
      "photoUrl": "",
      "userId": "08628693600180822090"
     },
     "user_tz": -330
    },
    "id": "OI3ipTnMGZdP"
   },
   "outputs": [],
   "source": [
    "model.compile(optimizer=\"adam\", loss=\"binary_crossentropy\")"
   ]
  },
  {
   "cell_type": "code",
   "execution_count": 43,
   "metadata": {
    "colab": {
     "base_uri": "https://localhost:8080/"
    },
    "executionInfo": {
     "elapsed": 263037,
     "status": "ok",
     "timestamp": 1628750874746,
     "user": {
      "displayName": "Abhishek Mishra",
      "photoUrl": "",
      "userId": "08628693600180822090"
     },
     "user_tz": -330
    },
    "id": "n69FfNKHGcut",
    "outputId": "d8fe99a1-98c0-49ba-8fee-efef2dd68247"
   },
   "outputs": [
    {
     "name": "stdout",
     "output_type": "stream",
     "text": [
      "Epoch 1/10\n",
      "700/700 [==============================] - 18s 25ms/step - loss: 0.1562\n",
      "Epoch 2/10\n",
      "700/700 [==============================] - 18s 25ms/step - loss: 0.0289\n",
      "Epoch 3/10\n",
      "700/700 [==============================] - 17s 24ms/step - loss: 0.0048\n",
      "Epoch 4/10\n",
      "700/700 [==============================] - 17s 25ms/step - loss: 0.0028\n",
      "Epoch 5/10\n",
      "700/700 [==============================] - 18s 25ms/step - loss: 0.0020\n",
      "Epoch 6/10\n",
      "700/700 [==============================] - 21s 29ms/step - loss: 0.0017\n",
      "Epoch 7/10\n",
      "700/700 [==============================] - 18s 26ms/step - loss: 0.0016\n",
      "Epoch 8/10\n",
      "700/700 [==============================] - 19s 27ms/step - loss: 0.0014\n",
      "Epoch 9/10\n",
      "700/700 [==============================] - 18s 25ms/step - loss: 0.0016\n",
      "Epoch 10/10\n",
      "700/700 [==============================] - 17s 24ms/step - loss: 0.0013\n"
     ]
    },
    {
     "data": {
      "text/plain": [
       "<keras.callbacks.History at 0x22d358a4280>"
      ]
     },
     "execution_count": 43,
     "metadata": {},
     "output_type": "execute_result"
    }
   ],
   "source": [
    "model.fit(train_sequence_matrix,y_train, batch_size=32,epochs=10)"
   ]
  },
  {
   "cell_type": "code",
   "execution_count": 44,
   "metadata": {
    "colab": {
     "base_uri": "https://localhost:8080/"
    },
    "executionInfo": {
     "elapsed": 796,
     "status": "ok",
     "timestamp": 1628750877518,
     "user": {
      "displayName": "Abhishek Mishra",
      "photoUrl": "",
      "userId": "08628693600180822090"
     },
     "user_tz": -330
    },
    "id": "9lX9QwbwGgKa",
    "outputId": "0aa4e68a-dd59-403e-aaa3-93bbd06e9dbf"
   },
   "outputs": [
    {
     "name": "stdout",
     "output_type": "stream",
     "text": [
      "              precision    recall  f1-score   support\n",
      "\n",
      "           0       0.96      0.99      0.98      8940\n",
      "           1       0.74      0.49      0.59       649\n",
      "\n",
      "    accuracy                           0.95      9589\n",
      "   macro avg       0.85      0.74      0.78      9589\n",
      "weighted avg       0.95      0.95      0.95      9589\n",
      "\n"
     ]
    }
   ],
   "source": [
    "y_pred = model.predict(test_sequence_matrix)\n",
    "y_pred = np.where(y_pred >= 0.5, 1, 0)\n",
    "print(classification_report(y_test,y_pred))"
   ]
  },
  {
   "cell_type": "code",
   "execution_count": 45,
   "metadata": {
    "executionInfo": {
     "elapsed": 420,
     "status": "ok",
     "timestamp": 1628750903766,
     "user": {
      "displayName": "Abhishek Mishra",
      "photoUrl": "",
      "userId": "08628693600180822090"
     },
     "user_tz": -330
    },
    "id": "AFKmRlWrHfbu"
   },
   "outputs": [],
   "source": [
    "# Bi-directional\n",
    "model = Sequential()\n",
    "model.add(Embedding(input_dim=vocab_len+1,output_dim=100,input_length=max_len,mask_zero=True))\n",
    "model.add(Bidirectional(SimpleRNN(32, activation=\"tanh\")))\n",
    "model.add(Dense(64,activation=\"tanh\"))\n",
    "model.add(Dense(64,activation=\"tanh\"))\n",
    "model.add(Dense(1,activation=\"sigmoid\"))"
   ]
  },
  {
   "cell_type": "code",
   "execution_count": 46,
   "metadata": {
    "colab": {
     "base_uri": "https://localhost:8080/"
    },
    "executionInfo": {
     "elapsed": 290705,
     "status": "ok",
     "timestamp": 1628751205152,
     "user": {
      "displayName": "Abhishek Mishra",
      "photoUrl": "",
      "userId": "08628693600180822090"
     },
     "user_tz": -330
    },
    "id": "3m5e5dtUHnXd",
    "outputId": "bfc5d4c7-9a22-403b-deae-012f980bc253"
   },
   "outputs": [
    {
     "name": "stdout",
     "output_type": "stream",
     "text": [
      "Epoch 1/10\n",
      "700/700 [==============================] - 21s 28ms/step - loss: 0.1530\n",
      "Epoch 2/10\n",
      "700/700 [==============================] - 21s 30ms/step - loss: 0.0186\n",
      "Epoch 3/10\n",
      "700/700 [==============================] - 20s 29ms/step - loss: 0.0043\n",
      "Epoch 4/10\n",
      "700/700 [==============================] - 19s 27ms/step - loss: 0.0020\n",
      "Epoch 5/10\n",
      "700/700 [==============================] - 22s 31ms/step - loss: 0.0010\n",
      "Epoch 6/10\n",
      "700/700 [==============================] - 19s 28ms/step - loss: 0.0015\n",
      "Epoch 7/10\n",
      "700/700 [==============================] - 20s 29ms/step - loss: 0.0012\n",
      "Epoch 8/10\n",
      "700/700 [==============================] - 17s 24ms/step - loss: 0.0012\n",
      "Epoch 9/10\n",
      "700/700 [==============================] - 20s 28ms/step - loss: 0.0011\n",
      "Epoch 10/10\n",
      "700/700 [==============================] - 22s 32ms/step - loss: 9.3087e-04\n"
     ]
    },
    {
     "data": {
      "text/plain": [
       "<keras.callbacks.History at 0x22d35dc6ca0>"
      ]
     },
     "execution_count": 46,
     "metadata": {},
     "output_type": "execute_result"
    }
   ],
   "source": [
    "model.compile(optimizer=\"adam\", loss=\"binary_crossentropy\")\n",
    "model.fit(train_sequence_matrix,y_train, batch_size=32,epochs=10)"
   ]
  },
  {
   "cell_type": "code",
   "execution_count": 47,
   "metadata": {
    "colab": {
     "base_uri": "https://localhost:8080/"
    },
    "executionInfo": {
     "elapsed": 1675,
     "status": "ok",
     "timestamp": 1628751206817,
     "user": {
      "displayName": "Abhishek Mishra",
      "photoUrl": "",
      "userId": "08628693600180822090"
     },
     "user_tz": -330
    },
    "id": "vXSdNJjQHqEz",
    "outputId": "73745be0-7f5b-4610-b538-6242a5443d21"
   },
   "outputs": [
    {
     "name": "stdout",
     "output_type": "stream",
     "text": [
      "              precision    recall  f1-score   support\n",
      "\n",
      "           0       0.97      0.99      0.98      8940\n",
      "           1       0.77      0.57      0.66       649\n",
      "\n",
      "    accuracy                           0.96      9589\n",
      "   macro avg       0.87      0.78      0.82      9589\n",
      "weighted avg       0.96      0.96      0.96      9589\n",
      "\n"
     ]
    }
   ],
   "source": [
    "y_pred = model.predict(test_sequence_matrix)\n",
    "y_pred = np.where(y_pred >= 0.5, 1, 0)\n",
    "print(classification_report(y_test,y_pred))"
   ]
  },
  {
   "cell_type": "code",
   "execution_count": 48,
   "metadata": {
    "executionInfo": {
     "elapsed": 17,
     "status": "ok",
     "timestamp": 1628751206824,
     "user": {
      "displayName": "Abhishek Mishra",
      "photoUrl": "",
      "userId": "08628693600180822090"
     },
     "user_tz": -330
    },
    "id": "RGUG2cyhHuE1"
   },
   "outputs": [],
   "source": [
    "# Multi-layer \n",
    "model = Sequential()\n",
    "model.add(Embedding(input_dim=vocab_len+1,output_dim=100,input_length=max_len,mask_zero=True))\n",
    "model.add(SimpleRNN(32, activation=\"tanh\", return_sequences=True))\n",
    "model.add(SimpleRNN(32, activation=\"tanh\"))\n",
    "model.add(Dense(64,activation=\"tanh\"))\n",
    "model.add(Dense(64,activation=\"tanh\"))\n",
    "model.add(Dense(1,activation=\"sigmoid\"))"
   ]
  },
  {
   "cell_type": "code",
   "execution_count": 49,
   "metadata": {
    "colab": {
     "base_uri": "https://localhost:8080/"
    },
    "executionInfo": {
     "elapsed": 291226,
     "status": "ok",
     "timestamp": 1628751498035,
     "user": {
      "displayName": "Abhishek Mishra",
      "photoUrl": "",
      "userId": "08628693600180822090"
     },
     "user_tz": -330
    },
    "id": "39P8rp5zICQo",
    "outputId": "e4cf59ad-a537-4144-9de2-419ebd649dff"
   },
   "outputs": [
    {
     "name": "stdout",
     "output_type": "stream",
     "text": [
      "Epoch 1/10\n",
      "700/700 [==============================] - 22s 30ms/step - loss: 0.1576 0s\n",
      "Epoch 2/10\n",
      "700/700 [==============================] - 19s 27ms/step - loss: 0.0312\n",
      "Epoch 3/10\n",
      "700/700 [==============================] - 18s 25ms/step - loss: 0.0076\n",
      "Epoch 4/10\n",
      "700/700 [==============================] - 23s 33ms/step - loss: 0.0037\n",
      "Epoch 5/10\n",
      "700/700 [==============================] - 22s 31ms/step - loss: 0.0035\n",
      "Epoch 6/10\n",
      "700/700 [==============================] - 21s 29ms/step - loss: 0.0020\n",
      "Epoch 7/10\n",
      "700/700 [==============================] - 18s 26ms/step - loss: 0.0017\n",
      "Epoch 8/10\n",
      "700/700 [==============================] - 18s 26ms/step - loss: 0.0012\n",
      "Epoch 9/10\n",
      "700/700 [==============================] - 19s 28ms/step - loss: 0.0018\n",
      "Epoch 10/10\n",
      "700/700 [==============================] - 17s 24ms/step - loss: 0.0061\n"
     ]
    },
    {
     "data": {
      "text/plain": [
       "<keras.callbacks.History at 0x22d3631af10>"
      ]
     },
     "execution_count": 49,
     "metadata": {},
     "output_type": "execute_result"
    }
   ],
   "source": [
    "model.compile(optimizer=\"adam\", loss=\"binary_crossentropy\")\n",
    "model.fit(train_sequence_matrix,y_train, batch_size=32,epochs=10)"
   ]
  },
  {
   "cell_type": "code",
   "execution_count": 50,
   "metadata": {
    "colab": {
     "base_uri": "https://localhost:8080/"
    },
    "executionInfo": {
     "elapsed": 1927,
     "status": "ok",
     "timestamp": 1628751499949,
     "user": {
      "displayName": "Abhishek Mishra",
      "photoUrl": "",
      "userId": "08628693600180822090"
     },
     "user_tz": -330
    },
    "id": "s-EQ3cD2IC9e",
    "outputId": "ba0e6cfc-697f-4f76-c467-f0b29c6fc9de"
   },
   "outputs": [
    {
     "name": "stdout",
     "output_type": "stream",
     "text": [
      "              precision    recall  f1-score   support\n",
      "\n",
      "           0       0.97      0.98      0.97      8940\n",
      "           1       0.69      0.51      0.59       649\n",
      "\n",
      "    accuracy                           0.95      9589\n",
      "   macro avg       0.83      0.75      0.78      9589\n",
      "weighted avg       0.95      0.95      0.95      9589\n",
      "\n"
     ]
    }
   ],
   "source": [
    "y_pred = model.predict(test_sequence_matrix)\n",
    "y_pred = np.where(y_pred >= 0.5, 1, 0)\n",
    "print(classification_report(y_test,y_pred))"
   ]
  },
  {
   "cell_type": "code",
   "execution_count": 51,
   "metadata": {
    "colab": {
     "base_uri": "https://localhost:8080/"
    },
    "executionInfo": {
     "elapsed": 300113,
     "status": "ok",
     "timestamp": 1628751887870,
     "user": {
      "displayName": "Abhishek Mishra",
      "photoUrl": "",
      "userId": "08628693600180822090"
     },
     "user_tz": -330
    },
    "id": "3PZk5XE5IF44",
    "outputId": "fcfd59b2-89f6-41d9-ea2f-b5065af9e1df"
   },
   "outputs": [
    {
     "name": "stdout",
     "output_type": "stream",
     "text": [
      "Epoch 1/10\n",
      "700/700 [==============================] - 20s 26ms/step - loss: 0.1536\n",
      "Epoch 2/10\n",
      "700/700 [==============================] - 19s 27ms/step - loss: 0.0442\n",
      "Epoch 3/10\n",
      "700/700 [==============================] - 23s 32ms/step - loss: 0.0134\n",
      "Epoch 4/10\n",
      "700/700 [==============================] - 19s 27ms/step - loss: 0.0055\n",
      "Epoch 5/10\n",
      "700/700 [==============================] - 18s 26ms/step - loss: 0.0032\n",
      "Epoch 6/10\n",
      "700/700 [==============================] - 20s 29ms/step - loss: 0.0028\n",
      "Epoch 7/10\n",
      "700/700 [==============================] - 19s 27ms/step - loss: 0.0023\n",
      "Epoch 8/10\n",
      "700/700 [==============================] - 20s 29ms/step - loss: 0.0032\n",
      "Epoch 9/10\n",
      "700/700 [==============================] - 19s 27ms/step - loss: 0.0028\n",
      "Epoch 10/10\n",
      "700/700 [==============================] - 20s 28ms/step - loss: 0.0016\n"
     ]
    },
    {
     "data": {
      "text/plain": [
       "<keras.callbacks.History at 0x22d39add670>"
      ]
     },
     "execution_count": 51,
     "metadata": {},
     "output_type": "execute_result"
    }
   ],
   "source": [
    "# LSTM\n",
    "model = Sequential()\n",
    "model.add(Embedding(input_dim=vocab_len+1,output_dim=100,input_length=max_len,mask_zero=True))\n",
    "model.add(LSTM(32, activation=\"tanh\"))\n",
    "model.add(Dense(64,activation=\"tanh\"))\n",
    "model.add(Dense(64,activation=\"tanh\"))\n",
    "model.add(Dense(1,activation=\"sigmoid\"))\n",
    "\n",
    "model.compile(optimizer=\"adam\", loss=\"binary_crossentropy\")\n",
    "model.fit(train_sequence_matrix,y_train, batch_size=32,epochs=10)"
   ]
  },
  {
   "cell_type": "code",
   "execution_count": 52,
   "metadata": {
    "colab": {
     "base_uri": "https://localhost:8080/"
    },
    "executionInfo": {
     "elapsed": 2298,
     "status": "ok",
     "timestamp": 1628751890155,
     "user": {
      "displayName": "Abhishek Mishra",
      "photoUrl": "",
      "userId": "08628693600180822090"
     },
     "user_tz": -330
    },
    "id": "Yr09NiC-KOda",
    "outputId": "4aa6e0a9-9695-4f08-a270-c451904ce36c"
   },
   "outputs": [
    {
     "name": "stdout",
     "output_type": "stream",
     "text": [
      "              precision    recall  f1-score   support\n",
      "\n",
      "           0       0.97      0.98      0.97      8940\n",
      "           1       0.67      0.59      0.63       649\n",
      "\n",
      "    accuracy                           0.95      9589\n",
      "   macro avg       0.82      0.79      0.80      9589\n",
      "weighted avg       0.95      0.95      0.95      9589\n",
      "\n"
     ]
    }
   ],
   "source": [
    "y_pred = model.predict(test_sequence_matrix)\n",
    "y_pred = np.where(y_pred >= 0.5, 1, 0)\n",
    "print(classification_report(y_test,y_pred))"
   ]
  },
  {
   "cell_type": "code",
   "execution_count": 53,
   "metadata": {
    "colab": {
     "background_save": true,
     "base_uri": "https://localhost:8080/"
    },
    "id": "-lIlZ6x5KScV"
   },
   "outputs": [
    {
     "name": "stdout",
     "output_type": "stream",
     "text": [
      "Epoch 1/10\n",
      "700/700 [==============================] - 25s 28ms/step - loss: 0.1501\n",
      "Epoch 2/10\n",
      "700/700 [==============================] - 23s 33ms/step - loss: 0.0394\n",
      "Epoch 3/10\n",
      "700/700 [==============================] - 18s 26ms/step - loss: 0.0096\n",
      "Epoch 4/10\n",
      "700/700 [==============================] - 19s 27ms/step - loss: 0.0048\n",
      "Epoch 5/10\n",
      "700/700 [==============================] - 21s 29ms/step - loss: 0.0027\n",
      "Epoch 6/10\n",
      "700/700 [==============================] - 18s 26ms/step - loss: 0.0025\n",
      "Epoch 7/10\n",
      "700/700 [==============================] - 18s 25ms/step - loss: 0.0022\n",
      "Epoch 8/10\n",
      "700/700 [==============================] - 19s 27ms/step - loss: 0.0012\n",
      "Epoch 9/10\n",
      "700/700 [==============================] - 19s 27ms/step - loss: 0.0016\n",
      "Epoch 10/10\n",
      "700/700 [==============================] - 20s 28ms/step - loss: 0.0011\n"
     ]
    },
    {
     "data": {
      "text/plain": [
       "<keras.callbacks.History at 0x22d39a1ba90>"
      ]
     },
     "execution_count": 53,
     "metadata": {},
     "output_type": "execute_result"
    }
   ],
   "source": [
    "# Bidirection LSTM\n",
    "model = Sequential()\n",
    "model.add(Embedding(input_dim=vocab_len+1,output_dim=100,input_length=max_len,mask_zero=True))\n",
    "model.add(Bidirectional(LSTM(32, activation=\"tanh\")))\n",
    "model.add(Dense(64,activation=\"tanh\"))\n",
    "model.add(Dense(64,activation=\"tanh\"))\n",
    "model.add(Dense(1,activation=\"sigmoid\"))\n",
    "\n",
    "model.compile(optimizer=\"adam\", loss=\"binary_crossentropy\")\n",
    "model.fit(train_sequence_matrix,y_train, batch_size=32,epochs=10)"
   ]
  },
  {
   "cell_type": "code",
   "execution_count": 54,
   "metadata": {
    "colab": {
     "background_save": true
    },
    "id": "YhOBQMCmgF6y"
   },
   "outputs": [
    {
     "name": "stdout",
     "output_type": "stream",
     "text": [
      "              precision    recall  f1-score   support\n",
      "\n",
      "           0       0.97      0.98      0.98      8940\n",
      "           1       0.70      0.58      0.64       649\n",
      "\n",
      "    accuracy                           0.96      9589\n",
      "   macro avg       0.84      0.78      0.81      9589\n",
      "weighted avg       0.95      0.96      0.95      9589\n",
      "\n"
     ]
    }
   ],
   "source": [
    "y_pred = model.predict(test_sequence_matrix)\n",
    "y_pred = np.where(y_pred >= 0.5, 1, 0)\n",
    "print(classification_report(y_test,y_pred))"
   ]
  },
  {
   "cell_type": "code",
   "execution_count": 55,
   "metadata": {
    "id": "AE3MGCoQqnJy"
   },
   "outputs": [
    {
     "name": "stdout",
     "output_type": "stream",
     "text": [
      "Epoch 1/10\n",
      "700/700 [==============================] - 28s 35ms/step - loss: 0.1505\n",
      "Epoch 2/10\n",
      "700/700 [==============================] - 26s 37ms/step - loss: 0.0454\n",
      "Epoch 3/10\n",
      "700/700 [==============================] - 25s 36ms/step - loss: 0.0143\n",
      "Epoch 4/10\n",
      "700/700 [==============================] - 26s 37ms/step - loss: 0.0066\n",
      "Epoch 5/10\n",
      "700/700 [==============================] - 25s 36ms/step - loss: 0.0059\n",
      "Epoch 6/10\n",
      "700/700 [==============================] - 25s 36ms/step - loss: 0.0054\n",
      "Epoch 7/10\n",
      "700/700 [==============================] - 24s 34ms/step - loss: 0.0045\n",
      "Epoch 8/10\n",
      "700/700 [==============================] - 24s 34ms/step - loss: 0.0037 0s - \n",
      "Epoch 9/10\n",
      "700/700 [==============================] - 23s 32ms/step - loss: 0.0021\n",
      "Epoch 10/10\n",
      "700/700 [==============================] - 24s 35ms/step - loss: 0.0022\n"
     ]
    },
    {
     "data": {
      "text/plain": [
       "<keras.callbacks.History at 0x22d886d2ac0>"
      ]
     },
     "execution_count": 55,
     "metadata": {},
     "output_type": "execute_result"
    }
   ],
   "source": [
    "# LSTM\n",
    "model = Sequential()\n",
    "model.add(Embedding(input_dim=vocab_len+1,output_dim=100,input_length=max_len,mask_zero=True))\n",
    "model.add(LSTM(128, activation=\"tanh\"))\n",
    "model.add(Dense(128,activation=\"tanh\"))\n",
    "model.add(Dense(64,activation=\"tanh\"))\n",
    "model.add(Dense(64,activation=\"tanh\"))\n",
    "model.add(Dense(64,activation=\"tanh\"))\n",
    "model.add(Dense(1,activation=\"sigmoid\"))\n",
    "\n",
    "model.compile(optimizer=\"adam\", loss=\"binary_crossentropy\")\n",
    "model.fit(train_sequence_matrix,y_train, batch_size=32,epochs=10)"
   ]
  },
  {
   "cell_type": "code",
   "execution_count": 56,
   "metadata": {},
   "outputs": [
    {
     "name": "stdout",
     "output_type": "stream",
     "text": [
      "              precision    recall  f1-score   support\n",
      "\n",
      "           0       0.97      0.98      0.98      8940\n",
      "           1       0.71      0.60      0.65       649\n",
      "\n",
      "    accuracy                           0.96      9589\n",
      "   macro avg       0.84      0.79      0.81      9589\n",
      "weighted avg       0.95      0.96      0.95      9589\n",
      "\n"
     ]
    }
   ],
   "source": [
    "y_pred = model.predict(test_sequence_matrix)\n",
    "y_pred = np.where(y_pred >= 0.5, 1, 0)\n",
    "print(classification_report(y_test,y_pred))"
   ]
  },
  {
   "cell_type": "code",
   "execution_count": 57,
   "metadata": {},
   "outputs": [
    {
     "name": "stdout",
     "output_type": "stream",
     "text": [
      "Epoch 1/30\n",
      "448/448 [==============================] - 19s 36ms/step - loss: 0.1507\n",
      "Epoch 2/30\n",
      "448/448 [==============================] - 16s 36ms/step - loss: 0.0445\n",
      "Epoch 3/30\n",
      "448/448 [==============================] - 16s 35ms/step - loss: 0.0131\n",
      "Epoch 4/30\n",
      "448/448 [==============================] - 17s 38ms/step - loss: 0.0075\n",
      "Epoch 5/30\n",
      "448/448 [==============================] - 18s 39ms/step - loss: 0.0051\n",
      "Epoch 6/30\n",
      "448/448 [==============================] - 19s 42ms/step - loss: 0.0037\n",
      "Epoch 7/30\n",
      "448/448 [==============================] - 20s 45ms/step - loss: 0.0031\n",
      "Epoch 8/30\n",
      "448/448 [==============================] - 18s 41ms/step - loss: 0.0039\n",
      "Epoch 9/30\n",
      "448/448 [==============================] - 19s 43ms/step - loss: 0.0071\n",
      "Epoch 10/30\n",
      "448/448 [==============================] - 17s 37ms/step - loss: 0.0037\n",
      "Epoch 11/30\n",
      "448/448 [==============================] - 19s 43ms/step - loss: 0.0026\n",
      "Epoch 12/30\n",
      "448/448 [==============================] - 18s 39ms/step - loss: 0.0018\n",
      "Epoch 13/30\n",
      "448/448 [==============================] - 17s 37ms/step - loss: 0.0022\n",
      "Epoch 14/30\n",
      "448/448 [==============================] - 17s 39ms/step - loss: 0.0021\n",
      "Epoch 15/30\n",
      "448/448 [==============================] - 17s 38ms/step - loss: 0.0020\n",
      "Epoch 16/30\n",
      "448/448 [==============================] - 17s 39ms/step - loss: 0.0017\n",
      "Epoch 17/30\n",
      "448/448 [==============================] - 16s 37ms/step - loss: 0.0025\n",
      "Epoch 18/30\n",
      "448/448 [==============================] - 17s 37ms/step - loss: 0.0036\n",
      "Epoch 19/30\n",
      "448/448 [==============================] - 16s 37ms/step - loss: 0.0030\n",
      "Epoch 20/30\n",
      "448/448 [==============================] - 17s 37ms/step - loss: 0.0031\n",
      "Epoch 21/30\n",
      "448/448 [==============================] - 17s 39ms/step - loss: 0.0017\n",
      "Epoch 22/30\n",
      "448/448 [==============================] - 17s 38ms/step - loss: 0.0014\n",
      "Epoch 23/30\n",
      "448/448 [==============================] - 17s 37ms/step - loss: 0.0011\n",
      "Epoch 24/30\n",
      "448/448 [==============================] - 19s 43ms/step - loss: 9.3898e-04\n",
      "Epoch 25/30\n",
      "448/448 [==============================] - 17s 39ms/step - loss: 0.0011\n",
      "Epoch 26/30\n",
      "448/448 [==============================] - 18s 41ms/step - loss: 0.0011\n",
      "Epoch 27/30\n",
      "448/448 [==============================] - 18s 41ms/step - loss: 0.0020\n",
      "Epoch 28/30\n",
      "448/448 [==============================] - 20s 44ms/step - loss: 0.0046\n",
      "Epoch 29/30\n",
      "448/448 [==============================] - 18s 39ms/step - loss: 0.0050\n",
      "Epoch 30/30\n",
      "448/448 [==============================] - 18s 39ms/step - loss: 0.0037\n"
     ]
    },
    {
     "data": {
      "text/plain": [
       "<keras.callbacks.History at 0x22d45575b20>"
      ]
     },
     "execution_count": 57,
     "metadata": {},
     "output_type": "execute_result"
    }
   ],
   "source": [
    "# LSTM\n",
    "model = Sequential()\n",
    "model.add(Embedding(input_dim=vocab_len+1,output_dim=100,input_length=max_len,mask_zero=True))\n",
    "model.add(LSTM(128, activation=\"tanh\"))\n",
    "model.add(Dense(256,activation=\"tanh\"))\n",
    "model.add(Dense(256,activation=\"tanh\"))\n",
    "model.add(Dense(128,activation=\"tanh\"))\n",
    "model.add(Dense(64,activation=\"tanh\"))\n",
    "model.add(Dense(1,activation=\"sigmoid\"))\n",
    "\n",
    "model.compile(optimizer=\"adam\", loss=\"binary_crossentropy\")\n",
    "model.fit(train_sequence_matrix,y_train, batch_size=50,epochs=30)"
   ]
  },
  {
   "cell_type": "code",
   "execution_count": 58,
   "metadata": {},
   "outputs": [
    {
     "name": "stdout",
     "output_type": "stream",
     "text": [
      "              precision    recall  f1-score   support\n",
      "\n",
      "           0       0.97      0.98      0.98      8940\n",
      "           1       0.71      0.55      0.62       649\n",
      "\n",
      "    accuracy                           0.95      9589\n",
      "   macro avg       0.84      0.77      0.80      9589\n",
      "weighted avg       0.95      0.95      0.95      9589\n",
      "\n"
     ]
    }
   ],
   "source": [
    "y_pred = model.predict(test_sequence_matrix)\n",
    "y_pred = np.where(y_pred >= 0.5, 1, 0)\n",
    "print(classification_report(y_test,y_pred))"
   ]
  }
 ],
 "metadata": {
  "colab": {
   "authorship_tag": "ABX9TyML+YsME5VvIPq3z3xqjRFh",
   "mount_file_id": "17j8vjvVOYYk0kBYVx3JYg90J20u9ulJW",
   "name": "nlp project model.ipynb",
   "version": ""
  },
  "kernelspec": {
   "display_name": "Python 3",
   "language": "python",
   "name": "python3"
  },
  "language_info": {
   "codemirror_mode": {
    "name": "ipython",
    "version": 3
   },
   "file_extension": ".py",
   "mimetype": "text/x-python",
   "name": "python",
   "nbconvert_exporter": "python",
   "pygments_lexer": "ipython3",
   "version": "3.6.13"
  }
 },
 "nbformat": 4,
 "nbformat_minor": 4
}
